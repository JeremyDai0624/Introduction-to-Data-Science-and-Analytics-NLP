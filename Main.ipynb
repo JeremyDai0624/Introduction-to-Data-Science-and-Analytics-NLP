{
 "cells": [
  {
   "cell_type": "code",
   "execution_count": 253,
   "id": "eeded9ce",
   "metadata": {},
   "outputs": [],
   "source": [
    "import numpy as np\n",
    "import pandas as pd\n",
    "from sklearn.preprocessing import StandardScaler\n",
    "from sklearn.linear_model import LogisticRegression\n",
    "from sklearn.model_selection import train_test_split\n",
    "from sklearn.model_selection import KFold\n",
    "from sklearn.metrics import make_scorer, confusion_matrix\n",
    "from sklearn.model_selection import learning_curve\n",
    "from sklearn.model_selection import GridSearchCV\n",
    "from sklearn.metrics import accuracy_score\n",
    "from sklearn.neighbors import KNeighborsClassifier\n",
    "from sklearn.naive_bayes import MultinomialNB\n",
    "from sklearn.tree import DecisionTreeClassifier\n",
    "from sklearn.svm import LinearSVC\n",
    "from sklearn.ensemble import RandomForestClassifier\n",
    "import xgboost as xgb\n",
    "import matplotlib.pyplot as plt\n",
    "import seaborn as sns\n",
    "import re\n",
    "import unicodedata\n",
    "import nltk\n",
    "from nltk.stem import WordNetLemmatizer\n",
    "from nltk.corpus import stopwords\n",
    "from nltk.tokenize import word_tokenize\n",
    "from nltk.corpus import words\n",
    "import unicodedata\n",
    "from sklearn.feature_extraction.text import CountVectorizer\n",
    "from sklearn.feature_extraction.text import TfidfVectorizer"
   ]
  },
  {
   "cell_type": "code",
   "execution_count": 95,
   "id": "2cd4c9c8",
   "metadata": {},
   "outputs": [
    {
     "data": {
      "text/html": [
       "<div>\n",
       "<style scoped>\n",
       "    .dataframe tbody tr th:only-of-type {\n",
       "        vertical-align: middle;\n",
       "    }\n",
       "\n",
       "    .dataframe tbody tr th {\n",
       "        vertical-align: top;\n",
       "    }\n",
       "\n",
       "    .dataframe thead th {\n",
       "        text-align: right;\n",
       "    }\n",
       "</style>\n",
       "<table border=\"1\" class=\"dataframe\">\n",
       "  <thead>\n",
       "    <tr style=\"text-align: right;\">\n",
       "      <th></th>\n",
       "      <th>ID</th>\n",
       "      <th>text</th>\n",
       "      <th>label</th>\n",
       "    </tr>\n",
       "  </thead>\n",
       "  <tbody>\n",
       "    <tr>\n",
       "      <th>0</th>\n",
       "      <td>7.680000e+17</td>\n",
       "      <td>Josh Jenkins is looking forward to TAB Breeder...</td>\n",
       "      <td>1</td>\n",
       "    </tr>\n",
       "    <tr>\n",
       "      <th>1</th>\n",
       "      <td>7.680000e+17</td>\n",
       "      <td>RT @MianUsmanJaved: Congratulations Pakistan o...</td>\n",
       "      <td>1</td>\n",
       "    </tr>\n",
       "    <tr>\n",
       "      <th>2</th>\n",
       "      <td>7.680000e+17</td>\n",
       "      <td>RT @PEPalerts: This September, @YESmag is taki...</td>\n",
       "      <td>1</td>\n",
       "    </tr>\n",
       "    <tr>\n",
       "      <th>3</th>\n",
       "      <td>7.680000e+17</td>\n",
       "      <td>RT @david_gaibis: Newly painted walls, thanks ...</td>\n",
       "      <td>1</td>\n",
       "    </tr>\n",
       "    <tr>\n",
       "      <th>4</th>\n",
       "      <td>7.680000e+17</td>\n",
       "      <td>RT @CedricFeschotte: Excited to announce: as o...</td>\n",
       "      <td>1</td>\n",
       "    </tr>\n",
       "    <tr>\n",
       "      <th>...</th>\n",
       "      <td>...</td>\n",
       "      <td>...</td>\n",
       "      <td>...</td>\n",
       "    </tr>\n",
       "    <tr>\n",
       "      <th>550386</th>\n",
       "      <td>8.050000e+17</td>\n",
       "      <td>@goddesses_o I can't stop watching her...mm. M...</td>\n",
       "      <td>0</td>\n",
       "    </tr>\n",
       "    <tr>\n",
       "      <th>550387</th>\n",
       "      <td>8.050000e+17</td>\n",
       "      <td>Poor old Tom Odell doesn't look like he would ...</td>\n",
       "      <td>0</td>\n",
       "    </tr>\n",
       "    <tr>\n",
       "      <th>550388</th>\n",
       "      <td>8.050000e+17</td>\n",
       "      <td>#antsmasher I smashed  7 ants in this awesome ...</td>\n",
       "      <td>1</td>\n",
       "    </tr>\n",
       "    <tr>\n",
       "      <th>550389</th>\n",
       "      <td>8.050000e+17</td>\n",
       "      <td>@LizHudston @KymWyllie @Evasmiless @meanBok @l...</td>\n",
       "      <td>1</td>\n",
       "    </tr>\n",
       "    <tr>\n",
       "      <th>550390</th>\n",
       "      <td>8.050000e+17</td>\n",
       "      <td>Bixbeat Mixtape Vol.2 is here with great artis...</td>\n",
       "      <td>1</td>\n",
       "    </tr>\n",
       "  </tbody>\n",
       "</table>\n",
       "<p>550391 rows × 3 columns</p>\n",
       "</div>"
      ],
      "text/plain": [
       "                  ID                                               text  label\n",
       "0       7.680000e+17  Josh Jenkins is looking forward to TAB Breeder...      1\n",
       "1       7.680000e+17  RT @MianUsmanJaved: Congratulations Pakistan o...      1\n",
       "2       7.680000e+17  RT @PEPalerts: This September, @YESmag is taki...      1\n",
       "3       7.680000e+17  RT @david_gaibis: Newly painted walls, thanks ...      1\n",
       "4       7.680000e+17  RT @CedricFeschotte: Excited to announce: as o...      1\n",
       "...              ...                                                ...    ...\n",
       "550386  8.050000e+17  @goddesses_o I can't stop watching her...mm. M...      0\n",
       "550387  8.050000e+17  Poor old Tom Odell doesn't look like he would ...      0\n",
       "550388  8.050000e+17  #antsmasher I smashed  7 ants in this awesome ...      1\n",
       "550389  8.050000e+17  @LizHudston @KymWyllie @Evasmiless @meanBok @l...      1\n",
       "550390  8.050000e+17  Bixbeat Mixtape Vol.2 is here with great artis...      1\n",
       "\n",
       "[550391 rows x 3 columns]"
      ]
     },
     "execution_count": 95,
     "metadata": {},
     "output_type": "execute_result"
    }
   ],
   "source": [
    "sa_df = pd.read_csv('sentiment_analysis.csv')\n",
    "sa_df"
   ]
  },
  {
   "cell_type": "code",
   "execution_count": 96,
   "id": "81e3487d",
   "metadata": {},
   "outputs": [
    {
     "data": {
      "text/html": [
       "<div>\n",
       "<style scoped>\n",
       "    .dataframe tbody tr th:only-of-type {\n",
       "        vertical-align: middle;\n",
       "    }\n",
       "\n",
       "    .dataframe tbody tr th {\n",
       "        vertical-align: top;\n",
       "    }\n",
       "\n",
       "    .dataframe thead th {\n",
       "        text-align: right;\n",
       "    }\n",
       "</style>\n",
       "<table border=\"1\" class=\"dataframe\">\n",
       "  <thead>\n",
       "    <tr style=\"text-align: right;\">\n",
       "      <th></th>\n",
       "      <th>text</th>\n",
       "      <th>sentiment</th>\n",
       "      <th>negative_reason</th>\n",
       "    </tr>\n",
       "  </thead>\n",
       "  <tbody>\n",
       "    <tr>\n",
       "      <th>0</th>\n",
       "      <td>The Canadian election is a power grab by PM Tr...</td>\n",
       "      <td>negative</td>\n",
       "      <td>calling election early</td>\n",
       "    </tr>\n",
       "    <tr>\n",
       "      <th>1</th>\n",
       "      <td>I do hope Trudeau loses the Canadian election ...</td>\n",
       "      <td>negative</td>\n",
       "      <td>covid</td>\n",
       "    </tr>\n",
       "    <tr>\n",
       "      <th>2</th>\n",
       "      <td>Dear Canadians, This election is a test of how...</td>\n",
       "      <td>positive</td>\n",
       "      <td>NaN</td>\n",
       "    </tr>\n",
       "    <tr>\n",
       "      <th>3</th>\n",
       "      <td>Canadian friends: Never forget that Trudeau ha...</td>\n",
       "      <td>negative</td>\n",
       "      <td>calling election early</td>\n",
       "    </tr>\n",
       "    <tr>\n",
       "      <th>4</th>\n",
       "      <td>Sorry @theJagmeetSingh I have voted #NDP all m...</td>\n",
       "      <td>positive</td>\n",
       "      <td>NaN</td>\n",
       "    </tr>\n",
       "    <tr>\n",
       "      <th>...</th>\n",
       "      <td>...</td>\n",
       "      <td>...</td>\n",
       "      <td>...</td>\n",
       "    </tr>\n",
       "    <tr>\n",
       "      <th>997</th>\n",
       "      <td>This is absolutely horrible in Canada. The for...</td>\n",
       "      <td>negative</td>\n",
       "      <td>others</td>\n",
       "    </tr>\n",
       "    <tr>\n",
       "      <th>998</th>\n",
       "      <td>@davidakin Trudeau imposes gun control policie...</td>\n",
       "      <td>negative</td>\n",
       "      <td>gun control</td>\n",
       "    </tr>\n",
       "    <tr>\n",
       "      <th>999</th>\n",
       "      <td>In Canada 🇨🇦 our election is being stolen by t...</td>\n",
       "      <td>negative</td>\n",
       "      <td>others</td>\n",
       "    </tr>\n",
       "    <tr>\n",
       "      <th>1000</th>\n",
       "      <td>O'Toole amends platform on gun control, but qu...</td>\n",
       "      <td>negative</td>\n",
       "      <td>tell lies</td>\n",
       "    </tr>\n",
       "    <tr>\n",
       "      <th>1001</th>\n",
       "      <td>@JustinTrudeau STOP YOUR LIES, STOP YOUR MANIP...</td>\n",
       "      <td>negative</td>\n",
       "      <td>tell lies</td>\n",
       "    </tr>\n",
       "  </tbody>\n",
       "</table>\n",
       "<p>1002 rows × 3 columns</p>\n",
       "</div>"
      ],
      "text/plain": [
       "                                                   text sentiment  \\\n",
       "0     The Canadian election is a power grab by PM Tr...  negative   \n",
       "1     I do hope Trudeau loses the Canadian election ...  negative   \n",
       "2     Dear Canadians, This election is a test of how...  positive   \n",
       "3     Canadian friends: Never forget that Trudeau ha...  negative   \n",
       "4     Sorry @theJagmeetSingh I have voted #NDP all m...  positive   \n",
       "...                                                 ...       ...   \n",
       "997   This is absolutely horrible in Canada. The for...  negative   \n",
       "998   @davidakin Trudeau imposes gun control policie...  negative   \n",
       "999   In Canada 🇨🇦 our election is being stolen by t...  negative   \n",
       "1000  O'Toole amends platform on gun control, but qu...  negative   \n",
       "1001  @JustinTrudeau STOP YOUR LIES, STOP YOUR MANIP...  negative   \n",
       "\n",
       "             negative_reason  \n",
       "0     calling election early  \n",
       "1                     covid   \n",
       "2                        NaN  \n",
       "3     calling election early  \n",
       "4                        NaN  \n",
       "...                      ...  \n",
       "997                   others  \n",
       "998              gun control  \n",
       "999                   others  \n",
       "1000               tell lies  \n",
       "1001               tell lies  \n",
       "\n",
       "[1002 rows x 3 columns]"
      ]
     },
     "execution_count": 96,
     "metadata": {},
     "output_type": "execute_result"
    }
   ],
   "source": [
    "ce_df = pd.read_csv('Canadian_elections_2021.csv')\n",
    "ce_df"
   ]
  },
  {
   "cell_type": "markdown",
   "id": "ff59e19f",
   "metadata": {},
   "source": [
    "# 1. Data cleaning"
   ]
  },
  {
   "cell_type": "code",
   "execution_count": 97,
   "id": "9b069812",
   "metadata": {},
   "outputs": [],
   "source": [
    "#remove html\n",
    "def cleanhtml(raw_html):\n",
    "    CLEANR = re.compile('<.*?>|&([a-z0-9]+|#[0-9]{1,6}|#x[0-9a-f]{1,6});')\n",
    "    cleantext = re.sub(CLEANR, '', raw_html)\n",
    "    return cleantext\n",
    "\n",
    "sa_df.text = sa_df.text.apply(cleanhtml)\n",
    "ce_df.text = ce_df.text.apply(cleanhtml)"
   ]
  },
  {
   "cell_type": "code",
   "execution_count": 98,
   "id": "3378e7ec",
   "metadata": {},
   "outputs": [],
   "source": [
    "#remove emoji\n",
    "def removeemoji(text):\n",
    "    emoji_pattern = re.compile(\"[\"\n",
    "            u\"\\U0001F600-\\U0001F64F\"  # emoticons\n",
    "            u\"\\U0001F300-\\U0001F5FF\"  # symbols & pictographs\n",
    "            u\"\\U0001F680-\\U0001F6FF\"  # transport & map symbols\n",
    "            u\"\\U0001F1E0-\\U0001F1FF\"  # flags (iOS)\n",
    "                               \"]+\", flags=re.UNICODE)\n",
    "    return emoji_pattern.sub(r'', text)\n",
    "\n",
    "sa_df.text = sa_df.text.apply(removeemoji)\n",
    "ce_df.text = ce_df.text.apply(removeemoji)"
   ]
  },
  {
   "cell_type": "code",
   "execution_count": 99,
   "id": "c18b2a5a",
   "metadata": {},
   "outputs": [],
   "source": [
    "#Replace html character by an ASCII equivalent\n",
    "def asciiconvert(text):\n",
    "    cleantext = unicodedata.normalize('NFKD', text).encode('ascii','ignore').decode('utf-8')\n",
    "    return cleantext\n",
    "\n",
    "sa_df.text = sa_df.text.apply(asciiconvert)\n",
    "ce_df.text = ce_df.text.apply(asciiconvert)"
   ]
  },
  {
   "cell_type": "code",
   "execution_count": 100,
   "id": "f130d1cf",
   "metadata": {},
   "outputs": [],
   "source": [
    "#remove all URLs\n",
    "def removeURL(text):\n",
    "    cleantext = re.sub(r\"http\\S+\", \"\", text)\n",
    "    return cleantext\n",
    "\n",
    "sa_df.text = sa_df.text.apply(removeURL)\n",
    "ce_df.text = ce_df.text.apply(removeURL)"
   ]
  },
  {
   "cell_type": "code",
   "execution_count": 101,
   "id": "f05d1ca8",
   "metadata": {},
   "outputs": [],
   "source": [
    "#Lowercase\n",
    "def LOWER(text):\n",
    "    return text.lower()\n",
    "\n",
    "sa_df.text = sa_df.text.apply(LOWER)\n",
    "ce_df.text = ce_df.text.apply(LOWER)"
   ]
  },
  {
   "cell_type": "code",
   "execution_count": 102,
   "id": "0a0889c1",
   "metadata": {},
   "outputs": [],
   "source": [
    "#remove all symbols like !, @, #, etc.\n",
    "def removesymbol(text):\n",
    "    cleantext = re.sub(r'[^a-zA-Z]', ' ', text)\n",
    "    return cleantext\n",
    "\n",
    "sa_df.text = sa_df.text.apply(removesymbol)\n",
    "ce_df.text = ce_df.text.apply(removesymbol)"
   ]
  },
  {
   "cell_type": "code",
   "execution_count": 122,
   "id": "2746d037",
   "metadata": {},
   "outputs": [],
   "source": [
    "#Replace all words with their base form\n",
    "w_tokenizer = nltk.tokenize.WhitespaceTokenizer()\n",
    "lemmatizer = nltk.stem.WordNetLemmatizer()\n",
    "\n",
    "def lemmatize_text(text):\n",
    "    w_tokenizer = nltk.tokenize.WhitespaceTokenizer()\n",
    "    lemmatizer = nltk.stem.WordNetLemmatizer()\n",
    "    return [lemmatizer.lemmatize(w) for w in w_tokenizer.tokenize(text)]\n",
    "\n",
    "sa_df.text = sa_df.text.apply(lemmatize_text)\n",
    "ce_df.text = ce_df.text.apply(lemmatize_text)"
   ]
  },
  {
   "cell_type": "code",
   "execution_count": 91,
   "id": "21100581",
   "metadata": {},
   "outputs": [
    {
     "name": "stderr",
     "output_type": "stream",
     "text": [
      "[nltk_data] Downloading package stopwords to\n",
      "[nltk_data]     C:\\Users\\Eric\\AppData\\Roaming\\nltk_data...\n",
      "[nltk_data]   Package stopwords is already up-to-date!\n"
     ]
    },
    {
     "data": {
      "text/plain": [
       "True"
      ]
     },
     "execution_count": 91,
     "metadata": {},
     "output_type": "execute_result"
    }
   ],
   "source": [
    "nltk.download('stopwords')"
   ]
  },
  {
   "cell_type": "code",
   "execution_count": 118,
   "id": "bd00ecc1",
   "metadata": {},
   "outputs": [],
   "source": [
    "#Remove stop words\n",
    "def removestopwords(text):\n",
    "    stop_words = set(stopwords.words('english'))\n",
    "    filtered_sentence = [w for w in text if not w.lower() in stop_words]\n",
    "    return filtered_sentence\n",
    "\n",
    "sa_df.text = sa_df.text.apply(removestopwords)\n",
    "ce_df.text = ce_df.text.apply(removestopwords)"
   ]
  },
  {
   "cell_type": "code",
   "execution_count": 123,
   "id": "1dab5560",
   "metadata": {},
   "outputs": [
    {
     "data": {
      "text/html": [
       "<div>\n",
       "<style scoped>\n",
       "    .dataframe tbody tr th:only-of-type {\n",
       "        vertical-align: middle;\n",
       "    }\n",
       "\n",
       "    .dataframe tbody tr th {\n",
       "        vertical-align: top;\n",
       "    }\n",
       "\n",
       "    .dataframe thead th {\n",
       "        text-align: right;\n",
       "    }\n",
       "</style>\n",
       "<table border=\"1\" class=\"dataframe\">\n",
       "  <thead>\n",
       "    <tr style=\"text-align: right;\">\n",
       "      <th></th>\n",
       "      <th>ID</th>\n",
       "      <th>text</th>\n",
       "      <th>label</th>\n",
       "    </tr>\n",
       "  </thead>\n",
       "  <tbody>\n",
       "    <tr>\n",
       "      <th>0</th>\n",
       "      <td>7.680000e+17</td>\n",
       "      <td>[josh, jenkins, is, looking, forward, to, tab,...</td>\n",
       "      <td>1</td>\n",
       "    </tr>\n",
       "    <tr>\n",
       "      <th>1</th>\n",
       "      <td>7.680000e+17</td>\n",
       "      <td>[rt, mianusmanjaved, congratulation, pakistan,...</td>\n",
       "      <td>1</td>\n",
       "    </tr>\n",
       "    <tr>\n",
       "      <th>2</th>\n",
       "      <td>7.680000e+17</td>\n",
       "      <td>[rt, pepalerts, this, september, yesmag, is, t...</td>\n",
       "      <td>1</td>\n",
       "    </tr>\n",
       "    <tr>\n",
       "      <th>3</th>\n",
       "      <td>7.680000e+17</td>\n",
       "      <td>[rt, david, gaibis, newly, painted, wall, than...</td>\n",
       "      <td>1</td>\n",
       "    </tr>\n",
       "    <tr>\n",
       "      <th>4</th>\n",
       "      <td>7.680000e+17</td>\n",
       "      <td>[rt, cedricfeschotte, excited, to, announce, a...</td>\n",
       "      <td>1</td>\n",
       "    </tr>\n",
       "    <tr>\n",
       "      <th>...</th>\n",
       "      <td>...</td>\n",
       "      <td>...</td>\n",
       "      <td>...</td>\n",
       "    </tr>\n",
       "    <tr>\n",
       "      <th>550386</th>\n",
       "      <td>8.050000e+17</td>\n",
       "      <td>[goddess, o, i, can, t, stop, watching, her, m...</td>\n",
       "      <td>0</td>\n",
       "    </tr>\n",
       "    <tr>\n",
       "      <th>550387</th>\n",
       "      <td>8.050000e+17</td>\n",
       "      <td>[poor, old, tom, odell, doesn, t, look, like, ...</td>\n",
       "      <td>0</td>\n",
       "    </tr>\n",
       "    <tr>\n",
       "      <th>550388</th>\n",
       "      <td>8.050000e+17</td>\n",
       "      <td>[antsmasher, i, smashed, ant, in, this, awesom...</td>\n",
       "      <td>1</td>\n",
       "    </tr>\n",
       "    <tr>\n",
       "      <th>550389</th>\n",
       "      <td>8.050000e+17</td>\n",
       "      <td>[lizhudston, kymwyllie, evasmiless, meanbok, l...</td>\n",
       "      <td>1</td>\n",
       "    </tr>\n",
       "    <tr>\n",
       "      <th>550390</th>\n",
       "      <td>8.050000e+17</td>\n",
       "      <td>[bixbeat, mixtape, vol, is, here, with, great,...</td>\n",
       "      <td>1</td>\n",
       "    </tr>\n",
       "  </tbody>\n",
       "</table>\n",
       "<p>550391 rows × 3 columns</p>\n",
       "</div>"
      ],
      "text/plain": [
       "                  ID                                               text  label\n",
       "0       7.680000e+17  [josh, jenkins, is, looking, forward, to, tab,...      1\n",
       "1       7.680000e+17  [rt, mianusmanjaved, congratulation, pakistan,...      1\n",
       "2       7.680000e+17  [rt, pepalerts, this, september, yesmag, is, t...      1\n",
       "3       7.680000e+17  [rt, david, gaibis, newly, painted, wall, than...      1\n",
       "4       7.680000e+17  [rt, cedricfeschotte, excited, to, announce, a...      1\n",
       "...              ...                                                ...    ...\n",
       "550386  8.050000e+17  [goddess, o, i, can, t, stop, watching, her, m...      0\n",
       "550387  8.050000e+17  [poor, old, tom, odell, doesn, t, look, like, ...      0\n",
       "550388  8.050000e+17  [antsmasher, i, smashed, ant, in, this, awesom...      1\n",
       "550389  8.050000e+17  [lizhudston, kymwyllie, evasmiless, meanbok, l...      1\n",
       "550390  8.050000e+17  [bixbeat, mixtape, vol, is, here, with, great,...      1\n",
       "\n",
       "[550391 rows x 3 columns]"
      ]
     },
     "execution_count": 123,
     "metadata": {},
     "output_type": "execute_result"
    }
   ],
   "source": [
    "sa_df"
   ]
  },
  {
   "cell_type": "code",
   "execution_count": 120,
   "id": "c2248a2c",
   "metadata": {},
   "outputs": [
    {
     "data": {
      "text/html": [
       "<div>\n",
       "<style scoped>\n",
       "    .dataframe tbody tr th:only-of-type {\n",
       "        vertical-align: middle;\n",
       "    }\n",
       "\n",
       "    .dataframe tbody tr th {\n",
       "        vertical-align: top;\n",
       "    }\n",
       "\n",
       "    .dataframe thead th {\n",
       "        text-align: right;\n",
       "    }\n",
       "</style>\n",
       "<table border=\"1\" class=\"dataframe\">\n",
       "  <thead>\n",
       "    <tr style=\"text-align: right;\">\n",
       "      <th></th>\n",
       "      <th>text</th>\n",
       "      <th>sentiment</th>\n",
       "      <th>negative_reason</th>\n",
       "    </tr>\n",
       "  </thead>\n",
       "  <tbody>\n",
       "    <tr>\n",
       "      <th>0</th>\n",
       "      <td>[canadian, election, power, grab, pm, trudeau,...</td>\n",
       "      <td>negative</td>\n",
       "      <td>calling election early</td>\n",
       "    </tr>\n",
       "    <tr>\n",
       "      <th>1</th>\n",
       "      <td>[hope, trudeau, loses, canadian, election, tom...</td>\n",
       "      <td>negative</td>\n",
       "      <td>covid</td>\n",
       "    </tr>\n",
       "    <tr>\n",
       "      <th>2</th>\n",
       "      <td>[dear, canadian, election, test, progressive, ...</td>\n",
       "      <td>positive</td>\n",
       "      <td>NaN</td>\n",
       "    </tr>\n",
       "    <tr>\n",
       "      <th>3</th>\n",
       "      <td>[canadian, friend, never, forget, trudeau, yea...</td>\n",
       "      <td>negative</td>\n",
       "      <td>calling election early</td>\n",
       "    </tr>\n",
       "    <tr>\n",
       "      <th>4</th>\n",
       "      <td>[sorry, thejagmeetsingh, voted, ndp, life, ele...</td>\n",
       "      <td>positive</td>\n",
       "      <td>NaN</td>\n",
       "    </tr>\n",
       "    <tr>\n",
       "      <th>...</th>\n",
       "      <td>...</td>\n",
       "      <td>...</td>\n",
       "      <td>...</td>\n",
       "    </tr>\n",
       "    <tr>\n",
       "      <th>997</th>\n",
       "      <td>[absolutely, horrible, canada, forthcoming, el...</td>\n",
       "      <td>negative</td>\n",
       "      <td>others</td>\n",
       "    </tr>\n",
       "    <tr>\n",
       "      <th>998</th>\n",
       "      <td>[davidakin, trudeau, imposes, gun, control, po...</td>\n",
       "      <td>negative</td>\n",
       "      <td>gun control</td>\n",
       "    </tr>\n",
       "    <tr>\n",
       "      <th>999</th>\n",
       "      <td>[canada, election, stolen, thug, uneducated, g...</td>\n",
       "      <td>negative</td>\n",
       "      <td>others</td>\n",
       "    </tr>\n",
       "    <tr>\n",
       "      <th>1000</th>\n",
       "      <td>[toole, amends, platform, gun, control, questi...</td>\n",
       "      <td>negative</td>\n",
       "      <td>tell lies</td>\n",
       "    </tr>\n",
       "    <tr>\n",
       "      <th>1001</th>\n",
       "      <td>[justintrudeau, stop, lie, stop, manipulation,...</td>\n",
       "      <td>negative</td>\n",
       "      <td>tell lies</td>\n",
       "    </tr>\n",
       "  </tbody>\n",
       "</table>\n",
       "<p>1002 rows × 3 columns</p>\n",
       "</div>"
      ],
      "text/plain": [
       "                                                   text sentiment  \\\n",
       "0     [canadian, election, power, grab, pm, trudeau,...  negative   \n",
       "1     [hope, trudeau, loses, canadian, election, tom...  negative   \n",
       "2     [dear, canadian, election, test, progressive, ...  positive   \n",
       "3     [canadian, friend, never, forget, trudeau, yea...  negative   \n",
       "4     [sorry, thejagmeetsingh, voted, ndp, life, ele...  positive   \n",
       "...                                                 ...       ...   \n",
       "997   [absolutely, horrible, canada, forthcoming, el...  negative   \n",
       "998   [davidakin, trudeau, imposes, gun, control, po...  negative   \n",
       "999   [canada, election, stolen, thug, uneducated, g...  negative   \n",
       "1000  [toole, amends, platform, gun, control, questi...  negative   \n",
       "1001  [justintrudeau, stop, lie, stop, manipulation,...  negative   \n",
       "\n",
       "             negative_reason  \n",
       "0     calling election early  \n",
       "1                     covid   \n",
       "2                        NaN  \n",
       "3     calling election early  \n",
       "4                        NaN  \n",
       "...                      ...  \n",
       "997                   others  \n",
       "998              gun control  \n",
       "999                   others  \n",
       "1000               tell lies  \n",
       "1001               tell lies  \n",
       "\n",
       "[1002 rows x 3 columns]"
      ]
     },
     "execution_count": 120,
     "metadata": {},
     "output_type": "execute_result"
    }
   ],
   "source": [
    "ce_df"
   ]
  },
  {
   "cell_type": "markdown",
   "id": "8139629a",
   "metadata": {},
   "source": [
    "# 2. Exploratory analysis"
   ]
  },
  {
   "cell_type": "markdown",
   "id": "994ea59e",
   "metadata": {},
   "source": [
    "Relevant keywords:\n",
    "Liberal: Liberal, Trudean, JustinTrudean, health, care, pension, loans, multiculture\n",
    "Conservative: Conservative, ErinOToole, budget, tax, gun, control\n",
    "New Democratic Party: NewDemocraticParty, NDP, JagmeetSingh, Singh, NewDemocratic, minority, LGBT, environment, international\n",
    "People's Party of Canada: People, MaximeBernier, immigration, Paris, lockdown, vaccine, vaccination"
   ]
  },
  {
   "cell_type": "code",
   "execution_count": 138,
   "id": "7cd221fb",
   "metadata": {},
   "outputs": [],
   "source": [
    "liberal = ['trudean', 'justintrudeau', 'liberal', 'health', 'care', 'pension', 'loans', 'multiculture']\n",
    "conservative = ['otoole', 'erinotoole', 'conservative', 'erin', 'gun', 'control', 'budget', 'tax']\n",
    "NDP = ['singh', 'jagmeetsingh', 'minority', 'ndp', 'newdemocratic', 'lgbt', 'environment', 'international']\n",
    "PPC = ['bernier', 'maximebernier', 'ppc', 'immigration', 'paris', 'lockdown', 'vaccine', 'vaccineation']"
   ]
  },
  {
   "cell_type": "code",
   "execution_count": 159,
   "id": "55453130",
   "metadata": {},
   "outputs": [],
   "source": [
    "ce_df['party'] = 'NaN'\n",
    "l_list = []\n",
    "c_list = []\n",
    "n_list = []\n",
    "p_list = []\n",
    "l_df = pd.DataFrame(None, columns=['text', 'sentiment', 'negative_reason'])\n",
    "c_df = pd.DataFrame(None, columns=['text', 'sentiment', 'negative_reason'])\n",
    "n_df = pd.DataFrame(None, columns=['text', 'sentiment', 'negative_reason'])\n",
    "p_df = pd.DataFrame(None, columns=['text', 'sentiment', 'negative_reason'])\n",
    "other_df = pd.DataFrame(None, columns=['text', 'sentiment', 'negative_reason'])\n",
    "\n",
    "for i in range(ce_df.shape[0]):\n",
    "    l_list = []\n",
    "    c_list = []\n",
    "    n_list = []\n",
    "    p_list = []\n",
    "    election_list = ce_df['text'][i]\n",
    "\n",
    "    for l in liberal:\n",
    "        for j in election_list:\n",
    "            if l in j:\n",
    "                l_list.append(j)\n",
    "    for c in conservative:\n",
    "        for j in election_list:\n",
    "             if c in j:\n",
    "                c_list.append(j)\n",
    "    for n in NDP:\n",
    "        for j in election_list:\n",
    "            if n in j:\n",
    "                n_list.append(j)\n",
    "    for p in PPC:\n",
    "        for j in election_list:\n",
    "            if p in j:\n",
    "                p_list.append(j)\n",
    "\n",
    "    if len(l_list) > max([len(c_list), len(n_list), len(p_list)]):\n",
    "        l_df = l_df.append(ce_df.iloc[i], ignore_index=True)\n",
    "        ce_df['party'][i] = 'Liberal'\n",
    "    elif len(c_list) > max([len(l_list), len(n_list), len(p_list)]):\n",
    "        c_df = c_df.append(ce_df.iloc[i], ignore_index=True)\n",
    "        ce_df['party'][i] = 'Conservative'\n",
    "    elif len(n_list) > max([len(l_list), len(c_list), len(p_list)]):\n",
    "        n_df = n_df.append(ce_df.iloc[i], ignore_index=True)\n",
    "        ce_df['party'][i] = 'NDP'\n",
    "    elif len(p_list) > max([len(l_list), len(n_list), len(c_list)]):\n",
    "        p_df = p_df.append(ce_df.iloc[i], ignore_index=True)\n",
    "        ce_df['party'][i] = 'PPC'\n",
    "    else:\n",
    "        other_df = other_df.append(ce_df.iloc[i], ignore_index=True) \n",
    "        ce_df['party'][i] = 'Other'"
   ]
  },
  {
   "cell_type": "code",
   "execution_count": 160,
   "id": "ec34698b",
   "metadata": {},
   "outputs": [
    {
     "name": "stdout",
     "output_type": "stream",
     "text": [
      "Liberal Party has 15.57% tweets\n"
     ]
    }
   ],
   "source": [
    "print('Liberal Party has {:.2%}'.format(l_df.shape[0]/ce_df.shape[0]),'tweets')"
   ]
  },
  {
   "cell_type": "code",
   "execution_count": 161,
   "id": "92204263",
   "metadata": {},
   "outputs": [
    {
     "name": "stdout",
     "output_type": "stream",
     "text": [
      "Conservative Party has 28.04% tweets\n"
     ]
    }
   ],
   "source": [
    "print('Conservative Party has {:.2%}'.format(c_df.shape[0]/ce_df.shape[0]),'tweets')"
   ]
  },
  {
   "cell_type": "code",
   "execution_count": 162,
   "id": "4e68d49e",
   "metadata": {},
   "outputs": [
    {
     "name": "stdout",
     "output_type": "stream",
     "text": [
      "New Democratic Party has 5.49% tweets\n"
     ]
    }
   ],
   "source": [
    "print('New Democratic Party has {:.2%}'.format(n_df.shape[0]/ce_df.shape[0]),'tweets')"
   ]
  },
  {
   "cell_type": "code",
   "execution_count": 163,
   "id": "57c3533f",
   "metadata": {},
   "outputs": [
    {
     "name": "stdout",
     "output_type": "stream",
     "text": [
      "People's Party has 7.49% tweets\n"
     ]
    }
   ],
   "source": [
    "print(\"People's Party has {:.2%}\".format(p_df.shape[0]/ce_df.shape[0]),'tweets')"
   ]
  },
  {
   "cell_type": "code",
   "execution_count": 165,
   "id": "5c4385ac",
   "metadata": {},
   "outputs": [
    {
     "name": "stdout",
     "output_type": "stream",
     "text": [
      "Other has 43.41% tweets\n"
     ]
    }
   ],
   "source": [
    "print('Other has {:.2%}'.format(other_df.shape[0]/ce_df.shape[0]),'tweets')"
   ]
  },
  {
   "cell_type": "markdown",
   "id": "4c0e587b",
   "metadata": {},
   "source": [
    "Distribution of the political affiliations of the tweets: Conservative Party is the most popular one and it has 28.57% tweets while Liberal Party only has 15.57% tweets, approximately half of the number of Consevative Party's tweets. People's Party and New Demcratic Party share 7.49% and 5.49% tweets correspondingly. The rest 43.42% tweets do not have obivous political leanings."
   ]
  },
  {
   "cell_type": "code",
   "execution_count": 173,
   "id": "06ddeacc",
   "metadata": {},
   "outputs": [],
   "source": [
    "#2.2\n",
    "#Positive sentiments are labelled with 1\n",
    "#Negative sentiments are labelled with 0\n",
    "positive_df = sa_df.loc[sa_df['label'] == 1]\n",
    "negative_df = sa_df.loc[sa_df['label'] == 0]\n",
    "positive_cnt = positive_df.shape[0]\n",
    "negative_cnt = negative_df.shape[0]"
   ]
  },
  {
   "cell_type": "code",
   "execution_count": 174,
   "id": "7bb64adf",
   "metadata": {},
   "outputs": [
    {
     "data": {
      "image/png": "[encoded data removed]",
      "text/plain": [
       "<Figure size 432x288 with 1 Axes>"
      ]
     },
     "metadata": {},
     "output_type": "display_data"
    }
   ],
   "source": [
    "labels = ['Positive sentiment', 'Negative sentiment']\n",
    "sizes = [positive_cnt, negative_cnt]\n",
    "fig1, ax1 = plt.subplots()\n",
    "ax1.pie(sizes, labels=labels, autopct='%1.1f%%',\n",
    "        shadow=True, startangle=90)\n",
    "ax1.axis('equal')  # Equal aspect ratio ensures that pie is drawn as a circle.\n",
    "plt.title('Percantage of positive and negative sentiment in sentiment_analysis.csv')\n",
    "plt.show()"
   ]
  },
  {
   "cell_type": "markdown",
   "id": "e49b7861",
   "metadata": {},
   "source": [
    "Findings: Most tweets have positive sentiment, which occupy 67.5% out of all tweets and only 32.5% tweets have negative sentiment"
   ]
  },
  {
   "cell_type": "code",
   "execution_count": 175,
   "id": "23cc83c3",
   "metadata": {},
   "outputs": [
    {
     "data": {
      "image/png": "[encoded data removed]",
      "text/plain": [
       "<Figure size 432x288 with 1 Axes>"
      ]
     },
     "metadata": {},
     "output_type": "display_data"
    }
   ],
   "source": [
    "labels = 'Liberal Party', 'Conservative Party', 'New Democratic Party', \"People's Party\", 'Other'\n",
    "sizes = [l_df.shape[0]/ce_df.shape[0], c_df.shape[0]/ce_df.shape[0], n_df.shape[0]/ce_df.shape[0], \n",
    "         p_df.shape[0]/ce_df.shape[0], other_df.shape[0]/ce_df.shape[0]]\n",
    "fig1, ax1 = plt.subplots()\n",
    "ax1.pie(sizes, labels=labels, autopct='%1.1f%%',\n",
    "        shadow=True, startangle=90)\n",
    "ax1.axis('equal')  \n",
    "plt.title('Percantage of tweets for each Party')\n",
    "plt.show()"
   ]
  },
  {
   "cell_type": "markdown",
   "id": "c8c610eb",
   "metadata": {},
   "source": [
    "Finding: From the pie chart, we can observe that most tweets are political related. And among four Parties, Conservative Partty concentrates the most attention while Liberal Party is a little behind. Only small number of tweets are talking about New Democratic Party and People's Party. "
   ]
  },
  {
   "cell_type": "markdown",
   "id": "c24cfe5e",
   "metadata": {},
   "source": [
    "# 3. Model Preparation"
   ]
  },
  {
   "cell_type": "code",
   "execution_count": 188,
   "id": "48f3b213",
   "metadata": {},
   "outputs": [],
   "source": [
    "#Set up Y data\n",
    "Y = sa_df['label']"
   ]
  },
  {
   "cell_type": "code",
   "execution_count": 192,
   "id": "c2bd55db",
   "metadata": {},
   "outputs": [
    {
     "data": {
      "text/plain": [
       "<550391x324661 sparse matrix of type '<class 'numpy.int64'>'\n",
       "\twith 5998228 stored elements in Compressed Sparse Row format>"
      ]
     },
     "execution_count": 192,
     "metadata": {},
     "output_type": "execute_result"
    }
   ],
   "source": [
    "# Combine elements in each list into a string\n",
    "def combine_list(text):\n",
    "    return \" \".join(text)\n",
    "str_sentiments = sa_df['text'].apply(combine_list)\n",
    "\n",
    "def bag_of_words(text):\n",
    "    count = CountVectorizer()\n",
    "    sentiments = count.fit_transform(text)\n",
    "    #bag_of_words.toarray()\n",
    "    feature_names = count.get_feature_names()\n",
    "    return sentiments\n",
    "\n",
    "X_bw = bag_of_words(str_sentiments)\n",
    "X_bw"
   ]
  },
  {
   "cell_type": "code",
   "execution_count": 199,
   "id": "650e30ae",
   "metadata": {},
   "outputs": [],
   "source": [
    "#Split the generic tweets by bag of words features\n",
    "X_train_bw, X_test_bw, y_train_bw, y_test_bw = train_test_split(X_bw, Y, test_size = 0.30, random_state = 42)"
   ]
  },
  {
   "cell_type": "code",
   "execution_count": 200,
   "id": "9e7936ad",
   "metadata": {},
   "outputs": [
    {
     "data": {
      "text/plain": [
       "<550391x324661 sparse matrix of type '<class 'numpy.float64'>'\n",
       "\twith 5998228 stored elements in Compressed Sparse Row format>"
      ]
     },
     "execution_count": 200,
     "metadata": {},
     "output_type": "execute_result"
    }
   ],
   "source": [
    "# Calculate TF-IDF score and return them in order\n",
    "def tf_idf(text):\n",
    "    v = TfidfVectorizer()\n",
    "    sentiments = v.fit_transform(text)\n",
    "    return sentiments\n",
    "\n",
    "X_ti = tf_idf(str_sentiments)\n",
    "X_ti"
   ]
  },
  {
   "cell_type": "code",
   "execution_count": 212,
   "id": "0b853d99",
   "metadata": {},
   "outputs": [],
   "source": [
    "#Split the generic tweets by TF-IDF features\n",
    "X_train_ti, X_test_ti, y_train_ti, y_test_ti = train_test_split(X_ti, Y, test_size = 0.30, random_state = 42)"
   ]
  },
  {
   "cell_type": "markdown",
   "id": "30561c7c",
   "metadata": {},
   "source": [
    "# logistic regression"
   ]
  },
  {
   "cell_type": "code",
   "execution_count": 285,
   "id": "752e6dd0",
   "metadata": {},
   "outputs": [
    {
     "name": "stdout",
     "output_type": "stream",
     "text": [
      "The accuracy for bag of words by logistic regression is 0.9792209207960367\n"
     ]
    }
   ],
   "source": [
    "#we will use default hyperparameter for the model\n",
    "#Bag of words\n",
    "bw_logi = LogisticRegression()\n",
    "bw_logi.fit(X_train_bw, y_train_bw)\n",
    "bw_logi_pred = bw_logi.predict(X_test_bw)\n",
    "bw_logi_acc = accuracy_score(y_test_bw, bw_logi_pred)\n",
    "print('The accuracy for bag of words by logistic regression is', bw_logi_acc)"
   ]
  },
  {
   "cell_type": "code",
   "execution_count": 274,
   "id": "a01dab4a",
   "metadata": {},
   "outputs": [
    {
     "name": "stdout",
     "output_type": "stream",
     "text": [
      "The accuracy for bTF-IDF by logistic regression is 0.9765924974866459\n"
     ]
    }
   ],
   "source": [
    "#TF-IDF\n",
    "ti_logi = LogisticRegression()\n",
    "ti_logi.fit(X_train_ti, y_train_ti)\n",
    "ti_logi_pred = ti_logi.predict(X_test_ti)\n",
    "ti_logi_acc = accuracy_score(y_test_ti, ti_logi_pred)\n",
    "print('The accuracy for TF-IDF by logistic regression is', ti_logi_acc)"
   ]
  },
  {
   "cell_type": "markdown",
   "id": "c39f43e4",
   "metadata": {},
   "source": [
    "# k-NN"
   ]
  },
  {
   "cell_type": "code",
   "execution_count": 247,
   "id": "3aa9334c",
   "metadata": {},
   "outputs": [
    {
     "name": "stdout",
     "output_type": "stream",
     "text": [
      "The accuracy for bag of words by KNN is 0.8894366453082039\n"
     ]
    }
   ],
   "source": [
    "#bag of words\n",
    "bw_knn = KNeighborsClassifier()\n",
    "bw_knn.fit(X_train_bw, y_train_bw)\n",
    "bw_knn_pred = bw_knn.predict(X_test_bw)\n",
    "bw_knn_acc = accuracy_score(y_test_bw, bw_knn_pred)\n",
    "print('The accuracy for bag of words by KNN is', bw_knn_acc)"
   ]
  },
  {
   "cell_type": "code",
   "execution_count": 248,
   "id": "6b76b026",
   "metadata": {},
   "outputs": [
    {
     "name": "stdout",
     "output_type": "stream",
     "text": [
      "The accuracy for bTF-IDF by KNN is 0.8784142249785002\n"
     ]
    }
   ],
   "source": [
    "#TF-IDF\n",
    "ti_knn = KNeighborsClassifier()\n",
    "ti_knn.fit(X_train_ti, y_train_ti)\n",
    "ti_knn_pred = ti_knn.predict(X_test_ti)\n",
    "ti_knn_acc = accuracy_score(y_test_ti, ti_knn_pred)\n",
    "print('The accuracy for TF-IDF by KNN is', ti_knn_acc)"
   ]
  },
  {
   "cell_type": "markdown",
   "id": "3cdeb0cc",
   "metadata": {},
   "source": [
    "# Naive Bayes"
   ]
  },
  {
   "cell_type": "code",
   "execution_count": 240,
   "id": "e44b1336",
   "metadata": {},
   "outputs": [
    {
     "name": "stdout",
     "output_type": "stream",
     "text": [
      "The accuracy for bag of words by Naives Bayers is 0.952385566685643\n"
     ]
    }
   ],
   "source": [
    "#bag of words\n",
    "bw_nb = MultinomialNB()\n",
    "bw_nb.fit(X_train_bw, y_train_bw)\n",
    "bw_nb_pred = bw_nb.predict(X_test_bw)\n",
    "bw_nb_acc = accuracy_score(y_test_bw, bw_nb_pred)\n",
    "print('The accuracy for bag of words by Naives Bayers is', bw_nb_acc)"
   ]
  },
  {
   "cell_type": "code",
   "execution_count": 241,
   "id": "f86173a2",
   "metadata": {},
   "outputs": [
    {
     "name": "stdout",
     "output_type": "stream",
     "text": [
      "The accuracy for bTF-IDF by Naives Bayers is 0.9128804854709965\n"
     ]
    }
   ],
   "source": [
    "#TF-IDF\n",
    "ti_nb = MultinomialNB()\n",
    "ti_nb.fit(X_train_ti, y_train_ti)\n",
    "ti_nb_pred = ti_nb.predict(X_test_ti)\n",
    "ti_nb_acc = accuracy_score(y_test_ti, ti_nb_pred)\n",
    "print('The accuracy for TF-IDF by Naives Bayers is', ti_nb_acc)"
   ]
  },
  {
   "cell_type": "markdown",
   "id": "ff185ebc",
   "metadata": {},
   "source": [
    "# SVM"
   ]
  },
  {
   "cell_type": "code",
   "execution_count": 254,
   "id": "b8bb82c8",
   "metadata": {},
   "outputs": [
    {
     "name": "stdout",
     "output_type": "stream",
     "text": [
      "The accuracy for bag of words by svm is 0.9773071379256048\n"
     ]
    }
   ],
   "source": [
    "#bag of words\n",
    "bw_svm = LinearSVC()\n",
    "bw_svm.fit(X_train_bw, y_train_bw)\n",
    "bw_svm_pred = bw_svm.predict(X_test_bw)\n",
    "bw_svm_acc = accuracy_score(y_test_bw, bw_svm_pred)\n",
    "print('The accuracy for bag of words by svm is', bw_svm_acc)"
   ]
  },
  {
   "cell_type": "code",
   "execution_count": 255,
   "id": "77241de3",
   "metadata": {},
   "outputs": [
    {
     "name": "stdout",
     "output_type": "stream",
     "text": [
      "The accuracy for bTF-IDF by svm is 0.9798083794619605\n"
     ]
    }
   ],
   "source": [
    "#TF-IDF\n",
    "ti_svm = LinearSVC()\n",
    "ti_svm.fit(X_train_ti, y_train_ti)\n",
    "ti_svm_pred = ti_svm.predict(X_test_ti)\n",
    "ti_svm_acc = accuracy_score(y_test_ti, ti_svm_pred)\n",
    "print('The accuracy for TF-IDF by svm is', ti_svm_acc)"
   ]
  },
  {
   "cell_type": "markdown",
   "id": "da556d16",
   "metadata": {},
   "source": [
    "# decision trees"
   ]
  },
  {
   "cell_type": "code",
   "execution_count": 238,
   "id": "cc6c098e",
   "metadata": {},
   "outputs": [
    {
     "name": "stdout",
     "output_type": "stream",
     "text": [
      "The accuracy for bag of words by Decision Trees is 0.9480008236533872\n"
     ]
    }
   ],
   "source": [
    "#bag of words\n",
    "bw_dtc = DecisionTreeClassifier()\n",
    "bw_dtc.fit(X_train_bw, y_train_bw)\n",
    "bw_dtc_pred = bw_dtc.predict(X_test_bw)\n",
    "bw_dtc_acc = accuracy_score(y_test_bw, bw_dtc_pred)\n",
    "print('The accuracy for bag of words by Decision Trees is', bw_dtc_acc)"
   ]
  },
  {
   "cell_type": "code",
   "execution_count": 239,
   "id": "ada6dbeb",
   "metadata": {},
   "outputs": [
    {
     "name": "stdout",
     "output_type": "stream",
     "text": [
      "The accuracy for bTF-IDF by Decision Trees is 0.9428408774331084\n"
     ]
    }
   ],
   "source": [
    "#TF-IDF\n",
    "ti_dtc = DecisionTreeClassifier()\n",
    "ti_dtc.fit(X_train_ti, y_train_ti)\n",
    "ti_dtc_pred = ti_dtc.predict(X_test_ti)\n",
    "ti_dtc_acc = accuracy_score(y_test_ti, ti_dtc_pred)\n",
    "print('The accuracy for TF-IDF by Decision Trees is', ti_dtc_acc)"
   ]
  },
  {
   "cell_type": "markdown",
   "id": "c875ae4c",
   "metadata": {},
   "source": [
    "# Random Forest"
   ]
  },
  {
   "cell_type": "code",
   "execution_count": 236,
   "id": "9339feea",
   "metadata": {},
   "outputs": [
    {
     "name": "stdout",
     "output_type": "stream",
     "text": [
      "The accuracy for bag of words by random forest is 0.9625903899029785\n"
     ]
    }
   ],
   "source": [
    "#bag of words\n",
    "bw_rfc = RandomForestClassifier()\n",
    "bw_rfc.fit(X_train_bw, y_train_bw)\n",
    "bw_rfc_pred = bw_rfc.predict(X_test_bw)\n",
    "bw_rfc_acc = accuracy_score(y_test_bw, bw_rfc_pred)\n",
    "print('The accuracy for bag of words by random forest is', bw_rfc_acc)"
   ]
  },
  {
   "cell_type": "code",
   "execution_count": 237,
   "id": "81273d42",
   "metadata": {},
   "outputs": [
    {
     "name": "stdout",
     "output_type": "stream",
     "text": [
      "The accuracy for bTF-IDF by by random forest is 0.96075533860633\n"
     ]
    }
   ],
   "source": [
    "#TF-IDF\n",
    "ti_rfc = RandomForestClassifier()\n",
    "ti_rfc.fit(X_train_ti, y_train_ti)\n",
    "ti_rfc_pred = ti_rfc.predict(X_test_ti)\n",
    "ti_rfc_acc = accuracy_score(y_test_ti, ti_rfc_pred)\n",
    "print('The accuracy for TF-IDF by random forest is', ti_rfc_acc)"
   ]
  },
  {
   "cell_type": "markdown",
   "id": "92fde1a5",
   "metadata": {},
   "source": [
    "# XGBoost"
   ]
  },
  {
   "cell_type": "code",
   "execution_count": 233,
   "id": "6b2ce451",
   "metadata": {},
   "outputs": [
    {
     "name": "stdout",
     "output_type": "stream",
     "text": [
      "The accuracy for bag of words by XGBoost is 0.8605542702794365\n"
     ]
    }
   ],
   "source": [
    "#bag of words\n",
    "bw_xgb = xgb.XGBClassifier()\n",
    "bw_xgb.fit(X_train_bw, y_train_bw)\n",
    "bw_xgb_pred = bw_xgb.predict(X_test_bw)\n",
    "bw_xgb_acc = accuracy_score(y_test_bw, bw_xgb_pred)\n",
    "print('The accuracy for bag of words by XGBoost is', bw_xgb_acc)"
   ]
  },
  {
   "cell_type": "code",
   "execution_count": 235,
   "id": "88f3e942",
   "metadata": {},
   "outputs": [
    {
     "name": "stdout",
     "output_type": "stream",
     "text": [
      "The accuracy for bTF-IDF by by XGBoost is 0.8606330018532201\n"
     ]
    }
   ],
   "source": [
    "#TF-IDF\n",
    "ti_xgb = xgb.XGBClassifier()\n",
    "ti_xgb.fit(X_train_ti, y_train_ti)\n",
    "ti_xgb_pred = ti_xgb.predict(X_test_ti)\n",
    "ti_xgb_acc = accuracy_score(y_test_ti, ti_xgb_pred)\n",
    "print('The accuracy for TF-IDF by XGBoost is', ti_xgb_acc)"
   ]
  },
  {
   "cell_type": "markdown",
   "id": "95cd54b2",
   "metadata": {},
   "source": [
    "# 4. Model implementation and tuning"
   ]
  },
  {
   "cell_type": "code",
   "execution_count": 306,
   "id": "a35d7b8a",
   "metadata": {},
   "outputs": [
    {
     "data": {
      "text/plain": [
       "<1002x4098 sparse matrix of type '<class 'numpy.int64'>'\n",
       "\twith 24435 stored elements in Compressed Sparse Row format>"
      ]
     },
     "execution_count": 306,
     "metadata": {},
     "output_type": "execute_result"
    }
   ],
   "source": [
    "#a)\n",
    "#a. \n",
    "ce_sentiment = ce_df['text'].apply(combine_list)\n",
    "X_bw_ce = bag_of_words(ce_sentiment)\n",
    "#new x_test\n",
    "X_bw_ce"
   ]
  },
  {
   "cell_type": "code",
   "execution_count": 316,
   "id": "6fdd86db",
   "metadata": {},
   "outputs": [
    {
     "data": {
      "text/html": [
       "<div>\n",
       "<style scoped>\n",
       "    .dataframe tbody tr th:only-of-type {\n",
       "        vertical-align: middle;\n",
       "    }\n",
       "\n",
       "    .dataframe tbody tr th {\n",
       "        vertical-align: top;\n",
       "    }\n",
       "\n",
       "    .dataframe thead th {\n",
       "        text-align: right;\n",
       "    }\n",
       "</style>\n",
       "<table border=\"1\" class=\"dataframe\">\n",
       "  <thead>\n",
       "    <tr style=\"text-align: right;\">\n",
       "      <th></th>\n",
       "      <th>text</th>\n",
       "      <th>sentiment</th>\n",
       "      <th>negative_reason</th>\n",
       "      <th>party</th>\n",
       "      <th>sentiment_num</th>\n",
       "    </tr>\n",
       "  </thead>\n",
       "  <tbody>\n",
       "    <tr>\n",
       "      <th>0</th>\n",
       "      <td>[the, canadian, election, is, a, power, grab, ...</td>\n",
       "      <td>negative</td>\n",
       "      <td>calling election early</td>\n",
       "      <td>Other</td>\n",
       "      <td>0</td>\n",
       "    </tr>\n",
       "    <tr>\n",
       "      <th>1</th>\n",
       "      <td>[i, do, hope, trudeau, loses, the, canadian, e...</td>\n",
       "      <td>negative</td>\n",
       "      <td>covid</td>\n",
       "      <td>Other</td>\n",
       "      <td>0</td>\n",
       "    </tr>\n",
       "    <tr>\n",
       "      <th>2</th>\n",
       "      <td>[dear, canadian, this, election, is, a, test, ...</td>\n",
       "      <td>positive</td>\n",
       "      <td>NaN</td>\n",
       "      <td>Liberal</td>\n",
       "      <td>1</td>\n",
       "    </tr>\n",
       "    <tr>\n",
       "      <th>3</th>\n",
       "      <td>[canadian, friend, never, forget, that, trudea...</td>\n",
       "      <td>negative</td>\n",
       "      <td>calling election early</td>\n",
       "      <td>PPC</td>\n",
       "      <td>0</td>\n",
       "    </tr>\n",
       "    <tr>\n",
       "      <th>4</th>\n",
       "      <td>[sorry, thejagmeetsingh, i, have, voted, ndp, ...</td>\n",
       "      <td>positive</td>\n",
       "      <td>NaN</td>\n",
       "      <td>PPC</td>\n",
       "      <td>1</td>\n",
       "    </tr>\n",
       "    <tr>\n",
       "      <th>...</th>\n",
       "      <td>...</td>\n",
       "      <td>...</td>\n",
       "      <td>...</td>\n",
       "      <td>...</td>\n",
       "      <td>...</td>\n",
       "    </tr>\n",
       "    <tr>\n",
       "      <th>997</th>\n",
       "      <td>[this, is, absolutely, horrible, in, canada, t...</td>\n",
       "      <td>negative</td>\n",
       "      <td>others</td>\n",
       "      <td>Other</td>\n",
       "      <td>0</td>\n",
       "    </tr>\n",
       "    <tr>\n",
       "      <th>998</th>\n",
       "      <td>[davidakin, trudeau, imposes, gun, control, po...</td>\n",
       "      <td>negative</td>\n",
       "      <td>gun control</td>\n",
       "      <td>Conservative</td>\n",
       "      <td>0</td>\n",
       "    </tr>\n",
       "    <tr>\n",
       "      <th>999</th>\n",
       "      <td>[in, canada, our, election, is, being, stolen,...</td>\n",
       "      <td>negative</td>\n",
       "      <td>others</td>\n",
       "      <td>Other</td>\n",
       "      <td>0</td>\n",
       "    </tr>\n",
       "    <tr>\n",
       "      <th>1000</th>\n",
       "      <td>[o, toole, amends, platform, on, gun, control,...</td>\n",
       "      <td>negative</td>\n",
       "      <td>tell lies</td>\n",
       "      <td>Conservative</td>\n",
       "      <td>0</td>\n",
       "    </tr>\n",
       "    <tr>\n",
       "      <th>1001</th>\n",
       "      <td>[justintrudeau, stop, your, lie, stop, your, m...</td>\n",
       "      <td>negative</td>\n",
       "      <td>tell lies</td>\n",
       "      <td>Other</td>\n",
       "      <td>0</td>\n",
       "    </tr>\n",
       "  </tbody>\n",
       "</table>\n",
       "<p>1002 rows × 5 columns</p>\n",
       "</div>"
      ],
      "text/plain": [
       "                                                   text sentiment  \\\n",
       "0     [the, canadian, election, is, a, power, grab, ...  negative   \n",
       "1     [i, do, hope, trudeau, loses, the, canadian, e...  negative   \n",
       "2     [dear, canadian, this, election, is, a, test, ...  positive   \n",
       "3     [canadian, friend, never, forget, that, trudea...  negative   \n",
       "4     [sorry, thejagmeetsingh, i, have, voted, ndp, ...  positive   \n",
       "...                                                 ...       ...   \n",
       "997   [this, is, absolutely, horrible, in, canada, t...  negative   \n",
       "998   [davidakin, trudeau, imposes, gun, control, po...  negative   \n",
       "999   [in, canada, our, election, is, being, stolen,...  negative   \n",
       "1000  [o, toole, amends, platform, on, gun, control,...  negative   \n",
       "1001  [justintrudeau, stop, your, lie, stop, your, m...  negative   \n",
       "\n",
       "             negative_reason         party  sentiment_num  \n",
       "0     calling election early         Other              0  \n",
       "1                     covid          Other              0  \n",
       "2                        NaN       Liberal              1  \n",
       "3     calling election early           PPC              0  \n",
       "4                        NaN           PPC              1  \n",
       "...                      ...           ...            ...  \n",
       "997                   others         Other              0  \n",
       "998              gun control  Conservative              0  \n",
       "999                   others         Other              0  \n",
       "1000               tell lies  Conservative              0  \n",
       "1001               tell lies         Other              0  \n",
       "\n",
       "[1002 rows x 5 columns]"
      ]
     },
     "execution_count": 316,
     "metadata": {},
     "output_type": "execute_result"
    }
   ],
   "source": [
    "#transfer negative and positive in Canadian Election into 0 and 1\n",
    "ce_df['sentiment_num'] = ce_df.sentiment.replace({'negative': 0, 'positive': 1})\n",
    "ce_df"
   ]
  },
  {
   "cell_type": "code",
   "execution_count": 319,
   "id": "ab1ca8c6",
   "metadata": {},
   "outputs": [
    {
     "name": "stdout",
     "output_type": "stream",
     "text": [
      "The accuracy for bag of words by logistic regression on Canadian Election data is 0.9291417165668663\n"
     ]
    }
   ],
   "source": [
    "#reconstruct the logistic regression model and fit in new data\n",
    "y_ce = ce_df.sentiment_num\n",
    "X_train_bw_ce, X_test_bw_ce, y_train_bw_ce, y_test_bw_ce = train_test_split(X_bw_ce, y_ce, test_size = 0.30, random_state = 42)\n",
    "bw_logi_ce = LogisticRegression()\n",
    "bw_logi_ce.fit(X_train_bw_ce, y_train_bw_ce)\n",
    "bw_logi_pred_ce = bw_logi_ce.predict(X_bw_ce)\n",
    "bw_logi_acc_ce = accuracy_score(y_bw_ce, bw_logi_pred_ce)\n",
    "print('The accuracy for bag of words by logistic regression on Canadian Election data is', bw_logi_acc_ce)"
   ]
  },
  {
   "cell_type": "markdown",
   "id": "bfdff1fa",
   "metadata": {},
   "source": [
    "The best performance trained model is logistic regression for bag of words with accuracy is 0.9792209207960367. It also did well on predicting sentiment in the Canadian Elections data with accuracy of 0.9291417165668663"
   ]
  },
  {
   "cell_type": "code",
   "execution_count": 400,
   "id": "6f58443f",
   "metadata": {},
   "outputs": [
    {
     "name": "stdout",
     "output_type": "stream",
     "text": [
      "Precision Score : 0.9358974358974359\n",
      "Recall Score : 0.9495934959349593\n",
      "F1 Score : 0.9426957223567394\n"
     ]
    }
   ],
   "source": [
    "#b. \n",
    "from sklearn.metrics import recall_score,precision_score,f1_score\n",
    "print('Precision Score : ' + str(precision_score(y_bw_ce, bw_logi_pred_ce)))\n",
    "print('Recall Score : ' + str(recall_score(y_bw_ce, bw_logi_pred_ce)))\n",
    "print('F1 Score : ' + str(f1_score(y_bw_ce, bw_logi_pred_ce)))"
   ]
  },
  {
   "cell_type": "markdown",
   "id": "65839d99",
   "metadata": {},
   "source": [
    "Precision score: Precision is the fraction of true positive examples among the examples that the model classified as positive. In other words, the number of true positives divided by the number of false positives plus true positives."
   ]
  },
  {
   "cell_type": "markdown",
   "id": "ac87dd12",
   "metadata": {},
   "source": [
    "Recall score: known as sensitivity, is the fraction of examples classified as positive, among the total number of positive examples. In other words, the number of true positives divided by the number of true positives plus false negatives."
   ]
  },
  {
   "cell_type": "markdown",
   "id": "6d0c7c50",
   "metadata": {},
   "source": [
    "The F-score is commonly used for evaluating information retrieval systems such as search engines, and also for many kinds of machine learning models, in particular in natural language processing."
   ]
  },
  {
   "cell_type": "code",
   "execution_count": 320,
   "id": "703077bb",
   "metadata": {},
   "outputs": [
    {
     "data": {
      "text/html": [
       "<div>\n",
       "<style scoped>\n",
       "    .dataframe tbody tr th:only-of-type {\n",
       "        vertical-align: middle;\n",
       "    }\n",
       "\n",
       "    .dataframe tbody tr th {\n",
       "        vertical-align: top;\n",
       "    }\n",
       "\n",
       "    .dataframe thead th {\n",
       "        text-align: right;\n",
       "    }\n",
       "</style>\n",
       "<table border=\"1\" class=\"dataframe\">\n",
       "  <thead>\n",
       "    <tr style=\"text-align: right;\">\n",
       "      <th></th>\n",
       "      <th>text</th>\n",
       "      <th>sentiment</th>\n",
       "      <th>negative_reason</th>\n",
       "      <th>party</th>\n",
       "      <th>sentiment_num</th>\n",
       "      <th>predict</th>\n",
       "    </tr>\n",
       "  </thead>\n",
       "  <tbody>\n",
       "    <tr>\n",
       "      <th>0</th>\n",
       "      <td>[the, canadian, election, is, a, power, grab, ...</td>\n",
       "      <td>negative</td>\n",
       "      <td>calling election early</td>\n",
       "      <td>Other</td>\n",
       "      <td>0</td>\n",
       "      <td>0</td>\n",
       "    </tr>\n",
       "    <tr>\n",
       "      <th>1</th>\n",
       "      <td>[i, do, hope, trudeau, loses, the, canadian, e...</td>\n",
       "      <td>negative</td>\n",
       "      <td>covid</td>\n",
       "      <td>Other</td>\n",
       "      <td>0</td>\n",
       "      <td>0</td>\n",
       "    </tr>\n",
       "    <tr>\n",
       "      <th>2</th>\n",
       "      <td>[dear, canadian, this, election, is, a, test, ...</td>\n",
       "      <td>positive</td>\n",
       "      <td>NaN</td>\n",
       "      <td>Liberal</td>\n",
       "      <td>1</td>\n",
       "      <td>1</td>\n",
       "    </tr>\n",
       "    <tr>\n",
       "      <th>3</th>\n",
       "      <td>[canadian, friend, never, forget, that, trudea...</td>\n",
       "      <td>negative</td>\n",
       "      <td>calling election early</td>\n",
       "      <td>PPC</td>\n",
       "      <td>0</td>\n",
       "      <td>0</td>\n",
       "    </tr>\n",
       "    <tr>\n",
       "      <th>4</th>\n",
       "      <td>[sorry, thejagmeetsingh, i, have, voted, ndp, ...</td>\n",
       "      <td>positive</td>\n",
       "      <td>NaN</td>\n",
       "      <td>PPC</td>\n",
       "      <td>1</td>\n",
       "      <td>1</td>\n",
       "    </tr>\n",
       "    <tr>\n",
       "      <th>...</th>\n",
       "      <td>...</td>\n",
       "      <td>...</td>\n",
       "      <td>...</td>\n",
       "      <td>...</td>\n",
       "      <td>...</td>\n",
       "      <td>...</td>\n",
       "    </tr>\n",
       "    <tr>\n",
       "      <th>997</th>\n",
       "      <td>[this, is, absolutely, horrible, in, canada, t...</td>\n",
       "      <td>negative</td>\n",
       "      <td>others</td>\n",
       "      <td>Other</td>\n",
       "      <td>0</td>\n",
       "      <td>0</td>\n",
       "    </tr>\n",
       "    <tr>\n",
       "      <th>998</th>\n",
       "      <td>[davidakin, trudeau, imposes, gun, control, po...</td>\n",
       "      <td>negative</td>\n",
       "      <td>gun control</td>\n",
       "      <td>Conservative</td>\n",
       "      <td>0</td>\n",
       "      <td>0</td>\n",
       "    </tr>\n",
       "    <tr>\n",
       "      <th>999</th>\n",
       "      <td>[in, canada, our, election, is, being, stolen,...</td>\n",
       "      <td>negative</td>\n",
       "      <td>others</td>\n",
       "      <td>Other</td>\n",
       "      <td>0</td>\n",
       "      <td>0</td>\n",
       "    </tr>\n",
       "    <tr>\n",
       "      <th>1000</th>\n",
       "      <td>[o, toole, amends, platform, on, gun, control,...</td>\n",
       "      <td>negative</td>\n",
       "      <td>tell lies</td>\n",
       "      <td>Conservative</td>\n",
       "      <td>0</td>\n",
       "      <td>0</td>\n",
       "    </tr>\n",
       "    <tr>\n",
       "      <th>1001</th>\n",
       "      <td>[justintrudeau, stop, your, lie, stop, your, m...</td>\n",
       "      <td>negative</td>\n",
       "      <td>tell lies</td>\n",
       "      <td>Other</td>\n",
       "      <td>0</td>\n",
       "      <td>0</td>\n",
       "    </tr>\n",
       "  </tbody>\n",
       "</table>\n",
       "<p>1002 rows × 6 columns</p>\n",
       "</div>"
      ],
      "text/plain": [
       "                                                   text sentiment  \\\n",
       "0     [the, canadian, election, is, a, power, grab, ...  negative   \n",
       "1     [i, do, hope, trudeau, loses, the, canadian, e...  negative   \n",
       "2     [dear, canadian, this, election, is, a, test, ...  positive   \n",
       "3     [canadian, friend, never, forget, that, trudea...  negative   \n",
       "4     [sorry, thejagmeetsingh, i, have, voted, ndp, ...  positive   \n",
       "...                                                 ...       ...   \n",
       "997   [this, is, absolutely, horrible, in, canada, t...  negative   \n",
       "998   [davidakin, trudeau, imposes, gun, control, po...  negative   \n",
       "999   [in, canada, our, election, is, being, stolen,...  negative   \n",
       "1000  [o, toole, amends, platform, on, gun, control,...  negative   \n",
       "1001  [justintrudeau, stop, your, lie, stop, your, m...  negative   \n",
       "\n",
       "             negative_reason         party  sentiment_num  predict  \n",
       "0     calling election early         Other              0        0  \n",
       "1                     covid          Other              0        0  \n",
       "2                        NaN       Liberal              1        1  \n",
       "3     calling election early           PPC              0        0  \n",
       "4                        NaN           PPC              1        1  \n",
       "...                      ...           ...            ...      ...  \n",
       "997                   others         Other              0        0  \n",
       "998              gun control  Conservative              0        0  \n",
       "999                   others         Other              0        0  \n",
       "1000               tell lies  Conservative              0        0  \n",
       "1001               tell lies         Other              0        0  \n",
       "\n",
       "[1002 rows x 6 columns]"
      ]
     },
     "execution_count": 320,
     "metadata": {},
     "output_type": "execute_result"
    }
   ],
   "source": [
    "#c\n",
    "ce_df['predict'] = bw_logi_pred_ce\n",
    "ce_df"
   ]
  },
  {
   "cell_type": "code",
   "execution_count": 327,
   "id": "2ecfc947",
   "metadata": {},
   "outputs": [
    {
     "data": {
      "text/plain": [
       "153"
      ]
     },
     "execution_count": 327,
     "metadata": {},
     "output_type": "execute_result"
    }
   ],
   "source": [
    "#We have 4 categories for each Party, postive sentiment, positive prediction, negative sentiment and negative prediction\n",
    "#Liberal Party\n",
    "lib_pos = ce_df.loc[ce_df['sentiment_num'] == 1][ce_df['party'] == 'Liberal'].shape[0]\n",
    "lib_neg = ce_df.loc[ce_df['sentiment_num'] == 0][ce_df['party'] == 'Liberal'].shape[0]\n",
    "lib_pos_pred = ce_df.loc[ce_df['predict'] == 1][ce_df['party'] == 'Liberal'].shape[0]\n",
    "lib_neg_pred = ce_df.loc[ce_df['predict'] == 0][ce_df['party'] == 'Liberal'].shape[0]\n",
    "\n",
    "#Conservative Party\n",
    "con_pos = ce_df.loc[ce_df['sentiment_num'] == 1][ce_df['party'] == 'Conservative'].shape[0]\n",
    "con_neg = ce_df.loc[ce_df['sentiment_num'] == 0][ce_df['party'] == 'Conservative'].shape[0]\n",
    "con_pos_pred = ce_df.loc[ce_df['predict'] == 1][ce_df['party'] == 'Conservative'].shape[0]\n",
    "con_neg_pred = ce_df.loc[ce_df['predict'] == 0][ce_df['party'] == 'Conservative'].shape[0]\n",
    "\n",
    "#NDP\n",
    "ndp_pos = ce_df.loc[ce_df['sentiment_num'] == 1][ce_df['party'] == 'NDP'].shape[0]\n",
    "ndp_neg = ce_df.loc[ce_df['sentiment_num'] == 0][ce_df['party'] == 'NDP'].shape[0]\n",
    "ndp_pos_pred = ce_df.loc[ce_df['predict'] == 1][ce_df['party'] == 'NDP'].shape[0]\n",
    "ndp_neg_pred = ce_df.loc[ce_df['predict'] == 0][ce_df['party'] == 'NDP'].shape[0]\n",
    "\n",
    "#PPC\n",
    "PPC_pos = ce_df.loc[ce_df['sentiment_num'] == 1][ce_df['party'] == 'PPC'].shape[0]\n",
    "PPC_neg = ce_df.loc[ce_df['sentiment_num'] == 0][ce_df['party'] == 'PPC'].shape[0]\n",
    "PPC_pos_pred = ce_df.loc[ce_df['predict'] == 1][ce_df['party'] == 'PPC'].shape[0]\n",
    "PPC_neg_pred = ce_df.loc[ce_df['predict'] == 0][ce_df['party'] == 'PPC'].shape[0]"
   ]
  },
  {
   "cell_type": "code",
   "execution_count": 332,
   "id": "7b591218",
   "metadata": {},
   "outputs": [
    {
     "data": {
      "image/png": "[encoded data removed]",
      "text/plain": [
       "<Figure size 432x288 with 1 Axes>"
      ]
     },
     "metadata": {},
     "output_type": "display_data"
    }
   ],
   "source": [
    "#visulize predict sentiment\n",
    "labels = ['Liberal Party positive prediction', 'Liberal Party negative prediction', \n",
    "          'Conservative Party positive prediction', 'Conservative Party negative prediction', \n",
    "          'New Democratic Party positive prediction', 'New Democratic Party negative prediction', \n",
    "          \"People's Party positive prediction\", \"People's Party negative prediction\"]\n",
    "sizes = [lib_pos_pred, lib_neg_pred, con_pos_pred, con_neg_pred, ndp_pos_pred, ndp_neg_pred, PPC_pos_pred, PPC_neg_pred]\n",
    "fig1, ax1 = plt.subplots()\n",
    "ax1.pie(sizes, labels=labels, autopct='%1.1f%%',\n",
    "        shadow=True, startangle=90)\n",
    "ax1.axis('equal')  \n",
    "plt.title('Percantage of predict sentiments for each Party')\n",
    "plt.show()"
   ]
  },
  {
   "cell_type": "code",
   "execution_count": 333,
   "id": "19361ee6",
   "metadata": {},
   "outputs": [
    {
     "data": {
      "image/png": "[encoded data removed]",
      "text/plain": [
       "<Figure size 432x288 with 1 Axes>"
      ]
     },
     "metadata": {},
     "output_type": "display_data"
    }
   ],
   "source": [
    "#visulize true sentiment\n",
    "labels = ['Liberal Party positive', 'Liberal Party negative', 'Conservative Party positive', 'Conservative Party negative', \n",
    "          'New Democratic Party positive', 'New Democratic Party negative', \"People's Party positive\", \"People's Party negative\"]\n",
    "sizes = [lib_pos, lib_neg, con_pos, con_neg, ndp_pos, ndp_neg, PPC_pos, PPC_neg]\n",
    "fig1, ax1 = plt.subplots()\n",
    "ax1.pie(sizes, labels=labels, autopct='%1.1f%%',\n",
    "        shadow=True, startangle=90)\n",
    "ax1.axis('equal')  \n",
    "plt.title('Percantage of true sentiments for each Party')\n",
    "plt.show()"
   ]
  },
  {
   "cell_type": "markdown",
   "id": "7449bc41",
   "metadata": {},
   "source": [
    "The predicted sentiment result has high accuracy as the true sentiment, which means the NLP analytics based on tweets is useful for political parties during election campaigns. For two major Parties, Liberal and Conservative, they have relatively equal size of positive sentiment and negative sentiment. Half of tweets loves them and the other half hates them. New Democratic Party and People's Party, however, sentiment is leaning to one side, there are more tweets like NDP and PPC than tweets that don't like them. Increase the sample size is always the most straight-forward way to improve accuracy of model."
   ]
  },
  {
   "cell_type": "code",
   "execution_count": 342,
   "id": "8f966143",
   "metadata": {},
   "outputs": [
    {
     "data": {
      "text/plain": [
       "array(['calling election early', 'covid ', 'others', 'scandal',\n",
       "       'tell lies', 'gun control', 'economy', 'healthcare and marijuana',\n",
       "       'segregation', 'women reproductive right and racism',\n",
       "       'climate problem'], dtype=object)"
      ]
     },
     "execution_count": 342,
     "metadata": {},
     "output_type": "execute_result"
    }
   ],
   "source": [
    "#b)\n",
    "nega_tw = ce_df.loc[ce_df.sentiment_num == 0]\n",
    "nega_tw.negative_reason.unique()"
   ]
  },
  {
   "cell_type": "code",
   "execution_count": 348,
   "id": "7ef8ab23",
   "metadata": {},
   "outputs": [
    {
     "data": {
      "text/html": [
       "<div>\n",
       "<style scoped>\n",
       "    .dataframe tbody tr th:only-of-type {\n",
       "        vertical-align: middle;\n",
       "    }\n",
       "\n",
       "    .dataframe tbody tr th {\n",
       "        vertical-align: top;\n",
       "    }\n",
       "\n",
       "    .dataframe thead th {\n",
       "        text-align: right;\n",
       "    }\n",
       "</style>\n",
       "<table border=\"1\" class=\"dataframe\">\n",
       "  <thead>\n",
       "    <tr style=\"text-align: right;\">\n",
       "      <th></th>\n",
       "      <th>text</th>\n",
       "      <th>sentiment</th>\n",
       "      <th>negative_reason</th>\n",
       "      <th>party</th>\n",
       "      <th>sentiment_num</th>\n",
       "      <th>predict</th>\n",
       "      <th>negative_reason_encode</th>\n",
       "    </tr>\n",
       "  </thead>\n",
       "  <tbody>\n",
       "    <tr>\n",
       "      <th>0</th>\n",
       "      <td>[the, canadian, election, is, a, power, grab, ...</td>\n",
       "      <td>negative</td>\n",
       "      <td>calling election early</td>\n",
       "      <td>Other</td>\n",
       "      <td>0</td>\n",
       "      <td>0</td>\n",
       "      <td>0</td>\n",
       "    </tr>\n",
       "    <tr>\n",
       "      <th>1</th>\n",
       "      <td>[i, do, hope, trudeau, loses, the, canadian, e...</td>\n",
       "      <td>negative</td>\n",
       "      <td>covid</td>\n",
       "      <td>Other</td>\n",
       "      <td>0</td>\n",
       "      <td>0</td>\n",
       "      <td>1</td>\n",
       "    </tr>\n",
       "    <tr>\n",
       "      <th>3</th>\n",
       "      <td>[canadian, friend, never, forget, that, trudea...</td>\n",
       "      <td>negative</td>\n",
       "      <td>calling election early</td>\n",
       "      <td>PPC</td>\n",
       "      <td>0</td>\n",
       "      <td>0</td>\n",
       "      <td>0</td>\n",
       "    </tr>\n",
       "    <tr>\n",
       "      <th>5</th>\n",
       "      <td>[vaccine, gun, are, key, this, election, becau...</td>\n",
       "      <td>negative</td>\n",
       "      <td>covid</td>\n",
       "      <td>Conservative</td>\n",
       "      <td>0</td>\n",
       "      <td>0</td>\n",
       "      <td>1</td>\n",
       "    </tr>\n",
       "    <tr>\n",
       "      <th>6</th>\n",
       "      <td>[im, sorry, moderator, can, respond, but, lead...</td>\n",
       "      <td>negative</td>\n",
       "      <td>others</td>\n",
       "      <td>Other</td>\n",
       "      <td>0</td>\n",
       "      <td>0</td>\n",
       "      <td>2</td>\n",
       "    </tr>\n",
       "    <tr>\n",
       "      <th>...</th>\n",
       "      <td>...</td>\n",
       "      <td>...</td>\n",
       "      <td>...</td>\n",
       "      <td>...</td>\n",
       "      <td>...</td>\n",
       "      <td>...</td>\n",
       "      <td>...</td>\n",
       "    </tr>\n",
       "    <tr>\n",
       "      <th>997</th>\n",
       "      <td>[this, is, absolutely, horrible, in, canada, t...</td>\n",
       "      <td>negative</td>\n",
       "      <td>others</td>\n",
       "      <td>Other</td>\n",
       "      <td>0</td>\n",
       "      <td>0</td>\n",
       "      <td>2</td>\n",
       "    </tr>\n",
       "    <tr>\n",
       "      <th>998</th>\n",
       "      <td>[davidakin, trudeau, imposes, gun, control, po...</td>\n",
       "      <td>negative</td>\n",
       "      <td>gun control</td>\n",
       "      <td>Conservative</td>\n",
       "      <td>0</td>\n",
       "      <td>0</td>\n",
       "      <td>5</td>\n",
       "    </tr>\n",
       "    <tr>\n",
       "      <th>999</th>\n",
       "      <td>[in, canada, our, election, is, being, stolen,...</td>\n",
       "      <td>negative</td>\n",
       "      <td>others</td>\n",
       "      <td>Other</td>\n",
       "      <td>0</td>\n",
       "      <td>0</td>\n",
       "      <td>2</td>\n",
       "    </tr>\n",
       "    <tr>\n",
       "      <th>1000</th>\n",
       "      <td>[o, toole, amends, platform, on, gun, control,...</td>\n",
       "      <td>negative</td>\n",
       "      <td>tell lies</td>\n",
       "      <td>Conservative</td>\n",
       "      <td>0</td>\n",
       "      <td>0</td>\n",
       "      <td>4</td>\n",
       "    </tr>\n",
       "    <tr>\n",
       "      <th>1001</th>\n",
       "      <td>[justintrudeau, stop, your, lie, stop, your, m...</td>\n",
       "      <td>negative</td>\n",
       "      <td>tell lies</td>\n",
       "      <td>Other</td>\n",
       "      <td>0</td>\n",
       "      <td>0</td>\n",
       "      <td>4</td>\n",
       "    </tr>\n",
       "  </tbody>\n",
       "</table>\n",
       "<p>387 rows × 7 columns</p>\n",
       "</div>"
      ],
      "text/plain": [
       "                                                   text sentiment  \\\n",
       "0     [the, canadian, election, is, a, power, grab, ...  negative   \n",
       "1     [i, do, hope, trudeau, loses, the, canadian, e...  negative   \n",
       "3     [canadian, friend, never, forget, that, trudea...  negative   \n",
       "5     [vaccine, gun, are, key, this, election, becau...  negative   \n",
       "6     [im, sorry, moderator, can, respond, but, lead...  negative   \n",
       "...                                                 ...       ...   \n",
       "997   [this, is, absolutely, horrible, in, canada, t...  negative   \n",
       "998   [davidakin, trudeau, imposes, gun, control, po...  negative   \n",
       "999   [in, canada, our, election, is, being, stolen,...  negative   \n",
       "1000  [o, toole, amends, platform, on, gun, control,...  negative   \n",
       "1001  [justintrudeau, stop, your, lie, stop, your, m...  negative   \n",
       "\n",
       "             negative_reason         party  sentiment_num  predict  \\\n",
       "0     calling election early         Other              0        0   \n",
       "1                     covid          Other              0        0   \n",
       "3     calling election early           PPC              0        0   \n",
       "5                     covid   Conservative              0        0   \n",
       "6                     others         Other              0        0   \n",
       "...                      ...           ...            ...      ...   \n",
       "997                   others         Other              0        0   \n",
       "998              gun control  Conservative              0        0   \n",
       "999                   others         Other              0        0   \n",
       "1000               tell lies  Conservative              0        0   \n",
       "1001               tell lies         Other              0        0   \n",
       "\n",
       "      negative_reason_encode  \n",
       "0                          0  \n",
       "1                          1  \n",
       "3                          0  \n",
       "5                          1  \n",
       "6                          2  \n",
       "...                      ...  \n",
       "997                        2  \n",
       "998                        5  \n",
       "999                        2  \n",
       "1000                       4  \n",
       "1001                       4  \n",
       "\n",
       "[387 rows x 7 columns]"
      ]
     },
     "execution_count": 348,
     "metadata": {},
     "output_type": "execute_result"
    }
   ],
   "source": [
    "#Encode all negative reason\n",
    "nega_tw['negative_reason_encode'] = nega_tw.negative_reason.replace({'calling election early': 0, 'covid ': 1, 'others': 2, 'scandal': 3,\n",
    "       'tell lies': 4, 'gun control': 5, 'economy': 6, 'healthcare and marijuana': 7,\n",
    "       'segregation': 8, 'women reproductive right and racism': 9, 'climate problem': 10})\n",
    "nega_tw"
   ]
  },
  {
   "cell_type": "code",
   "execution_count": 355,
   "id": "bd3552d9",
   "metadata": {},
   "outputs": [
    {
     "data": {
      "text/plain": [
       "<387x2431 sparse matrix of type '<class 'numpy.int64'>'\n",
       "\twith 10178 stored elements in Compressed Sparse Row format>"
      ]
     },
     "execution_count": 355,
     "metadata": {},
     "output_type": "execute_result"
    }
   ],
   "source": [
    "#Set up Y data\n",
    "Y_nega = nega_tw['negative_reason_encode']\n",
    "#we will choose logistic regression for multi-class classification models to predict negative tweets\n",
    "#bag of words feature\n",
    "str_nega_sentiments = nega_tw['text'].apply(combine_list)\n",
    "X_bw_nega = bag_of_words(str_nega_sentiments)\n",
    "X_bw_nega"
   ]
  },
  {
   "cell_type": "code",
   "execution_count": 356,
   "id": "bff362a0",
   "metadata": {},
   "outputs": [],
   "source": [
    "#Split the negative tweets by bag of words features\n",
    "X_train_bw_nega, X_test_bw_nega, y_train_bw_nega, y_test_bw_nega = train_test_split(X_bw_nega, Y_nega, test_size = 0.30, random_state = 42)"
   ]
  },
  {
   "cell_type": "code",
   "execution_count": 353,
   "id": "64a4d5ed",
   "metadata": {},
   "outputs": [
    {
     "data": {
      "text/plain": [
       "<387x2431 sparse matrix of type '<class 'numpy.float64'>'\n",
       "\twith 10178 stored elements in Compressed Sparse Row format>"
      ]
     },
     "execution_count": 353,
     "metadata": {},
     "output_type": "execute_result"
    }
   ],
   "source": [
    "#TF-IDF feature\n",
    "X_ti_nega = tf_idf(str_nega_sentiments)\n",
    "X_ti_nega"
   ]
  },
  {
   "cell_type": "code",
   "execution_count": 359,
   "id": "8a75f06a",
   "metadata": {},
   "outputs": [],
   "source": [
    "#Split the negative tweets by TF-IDF features\n",
    "X_train_ti_nega, X_test_ti_nega, y_train_ti_nega, y_test_ti_nega = train_test_split(X_ti_nega, Y_nega, test_size = 0.30, random_state = 42)"
   ]
  },
  {
   "cell_type": "markdown",
   "id": "e993cfa4",
   "metadata": {},
   "source": [
    "# Logistic regression on negative tweets"
   ]
  },
  {
   "cell_type": "code",
   "execution_count": 362,
   "id": "0fd718c2",
   "metadata": {},
   "outputs": [
    {
     "name": "stdout",
     "output_type": "stream",
     "text": [
      "The train accuracy for bag of words by logistic regression for negative tweets is 0.4358974358974359\n"
     ]
    }
   ],
   "source": [
    "#we will use default hyperparameter for the model\n",
    "#Bag of words\n",
    "bw_logi_nega = LogisticRegression()\n",
    "bw_logi_nega.fit(X_train_bw_nega, y_train_bw_nega)\n",
    "bw_logi_pred_nega = bw_logi_nega.predict(X_test_bw_nega)\n",
    "bw_logi_acc_nega = accuracy_score(y_test_bw_nega, bw_logi_pred_nega)\n",
    "print('The train accuracy for bag of words by logistic regression for negative tweets is', bw_logi_acc_nega)"
   ]
  },
  {
   "cell_type": "code",
   "execution_count": 364,
   "id": "8d0b9304",
   "metadata": {},
   "outputs": [
    {
     "name": "stdout",
     "output_type": "stream",
     "text": [
      "The train accuracy for TF-IDF by logistic regression for negative tweets is 0.4017094017094017\n"
     ]
    }
   ],
   "source": [
    "#TF-IDF\n",
    "ti_logi_nega = LogisticRegression()\n",
    "ti_logi_nega.fit(X_train_ti_nega, y_train_ti_nega)\n",
    "ti_logi_pred_nega = ti_logi_nega.predict(X_test_ti_nega)\n",
    "ti_logi_acc_nega = accuracy_score(y_test_ti_nega, ti_logi_pred_nega)\n",
    "print('The train accuracy for TF-IDF by logistic regression for negative tweets is', ti_logi_acc_nega)"
   ]
  },
  {
   "cell_type": "markdown",
   "id": "6689cdcb",
   "metadata": {},
   "source": [
    "a. The reason my model failed because the data is imbalanced(Training set significantly different from test set, comparison show below) and model is a little bit too complex/too many features. Reducing features can improve the accuracy of the selected model. "
   ]
  },
  {
   "cell_type": "code",
   "execution_count": 418,
   "id": "96fe708f",
   "metadata": {},
   "outputs": [
    {
     "data": {
      "text/plain": [
       "2     0.396296\n",
       "0     0.196296\n",
       "4     0.162963\n",
       "1     0.055556\n",
       "5     0.044444\n",
       "3     0.040741\n",
       "6     0.037037\n",
       "10    0.033333\n",
       "7     0.014815\n",
       "8     0.011111\n",
       "9     0.007407\n",
       "Name: negative_reason_encode, dtype: float64"
      ]
     },
     "execution_count": 418,
     "metadata": {},
     "output_type": "execute_result"
    }
   ],
   "source": [
    "y_train_bw_nega.value_counts(normalize=True)"
   ]
  },
  {
   "cell_type": "code",
   "execution_count": 415,
   "id": "3f1411a5",
   "metadata": {},
   "outputs": [
    {
     "data": {
      "text/plain": [
       "2     0.358974\n",
       "0     0.170940\n",
       "4     0.145299\n",
       "6     0.085470\n",
       "1     0.085470\n",
       "10    0.051282\n",
       "5     0.034188\n",
       "7     0.025641\n",
       "3     0.025641\n",
       "9     0.017094\n",
       "Name: negative_reason_encode, dtype: float64"
      ]
     },
     "execution_count": 415,
     "metadata": {},
     "output_type": "execute_result"
    }
   ],
   "source": [
    "y_test_bw_nega.value_counts(normalize=True)"
   ]
  },
  {
   "cell_type": "code",
   "execution_count": 397,
   "id": "8c815779",
   "metadata": {},
   "outputs": [
    {
     "data": {
      "text/html": [
       "<div>\n",
       "<style scoped>\n",
       "    .dataframe tbody tr th:only-of-type {\n",
       "        vertical-align: middle;\n",
       "    }\n",
       "\n",
       "    .dataframe tbody tr th {\n",
       "        vertical-align: top;\n",
       "    }\n",
       "\n",
       "    .dataframe thead th {\n",
       "        text-align: right;\n",
       "    }\n",
       "</style>\n",
       "<table border=\"1\" class=\"dataframe\">\n",
       "  <thead>\n",
       "    <tr style=\"text-align: right;\">\n",
       "      <th></th>\n",
       "      <th>text</th>\n",
       "      <th>sentiment</th>\n",
       "      <th>negative_reason</th>\n",
       "      <th>party</th>\n",
       "      <th>sentiment_num</th>\n",
       "      <th>predict</th>\n",
       "      <th>negative_reason_encode</th>\n",
       "    </tr>\n",
       "  </thead>\n",
       "  <tbody>\n",
       "    <tr>\n",
       "      <th>2</th>\n",
       "      <td>[dear, canadian, this, election, is, a, test, ...</td>\n",
       "      <td>positive</td>\n",
       "      <td>NaN</td>\n",
       "      <td>Liberal</td>\n",
       "      <td>1</td>\n",
       "      <td>1</td>\n",
       "      <td>NaN</td>\n",
       "    </tr>\n",
       "    <tr>\n",
       "      <th>4</th>\n",
       "      <td>[sorry, thejagmeetsingh, i, have, voted, ndp, ...</td>\n",
       "      <td>positive</td>\n",
       "      <td>NaN</td>\n",
       "      <td>PPC</td>\n",
       "      <td>1</td>\n",
       "      <td>1</td>\n",
       "      <td>NaN</td>\n",
       "    </tr>\n",
       "    <tr>\n",
       "      <th>8</th>\n",
       "      <td>[if, canadian, voteppc, and, support, maximebe...</td>\n",
       "      <td>positive</td>\n",
       "      <td>NaN</td>\n",
       "      <td>PPC</td>\n",
       "      <td>1</td>\n",
       "      <td>1</td>\n",
       "      <td>NaN</td>\n",
       "    </tr>\n",
       "    <tr>\n",
       "      <th>9</th>\n",
       "      <td>[justin, trudeau, literally, had, rock, thrown...</td>\n",
       "      <td>positive</td>\n",
       "      <td>NaN</td>\n",
       "      <td>Conservative</td>\n",
       "      <td>1</td>\n",
       "      <td>0</td>\n",
       "      <td>NaN</td>\n",
       "    </tr>\n",
       "    <tr>\n",
       "      <th>12</th>\n",
       "      <td>[throwbackthursday, to, federal, election, deb...</td>\n",
       "      <td>positive</td>\n",
       "      <td>NaN</td>\n",
       "      <td>Conservative</td>\n",
       "      <td>1</td>\n",
       "      <td>1</td>\n",
       "      <td>NaN</td>\n",
       "    </tr>\n",
       "    <tr>\n",
       "      <th>...</th>\n",
       "      <td>...</td>\n",
       "      <td>...</td>\n",
       "      <td>...</td>\n",
       "      <td>...</td>\n",
       "      <td>...</td>\n",
       "      <td>...</td>\n",
       "      <td>...</td>\n",
       "    </tr>\n",
       "    <tr>\n",
       "      <th>938</th>\n",
       "      <td>[this, election, is, about, canadian, freedom,...</td>\n",
       "      <td>positive</td>\n",
       "      <td>NaN</td>\n",
       "      <td>Other</td>\n",
       "      <td>1</td>\n",
       "      <td>1</td>\n",
       "      <td>NaN</td>\n",
       "    </tr>\n",
       "    <tr>\n",
       "      <th>940</th>\n",
       "      <td>[your, progressive, conservative, government, ...</td>\n",
       "      <td>positive</td>\n",
       "      <td>NaN</td>\n",
       "      <td>Conservative</td>\n",
       "      <td>1</td>\n",
       "      <td>1</td>\n",
       "      <td>NaN</td>\n",
       "    </tr>\n",
       "    <tr>\n",
       "      <th>943</th>\n",
       "      <td>[last, one, of, the, night, lookin, like, u, n...</td>\n",
       "      <td>positive</td>\n",
       "      <td>NaN</td>\n",
       "      <td>Conservative</td>\n",
       "      <td>1</td>\n",
       "      <td>1</td>\n",
       "      <td>NaN</td>\n",
       "    </tr>\n",
       "    <tr>\n",
       "      <th>969</th>\n",
       "      <td>[justintrudeau, is, killing, it, i, d, hate, t...</td>\n",
       "      <td>positive</td>\n",
       "      <td>NaN</td>\n",
       "      <td>Other</td>\n",
       "      <td>1</td>\n",
       "      <td>1</td>\n",
       "      <td>NaN</td>\n",
       "    </tr>\n",
       "    <tr>\n",
       "      <th>984</th>\n",
       "      <td>[justintrudeau, justin, rifle, dont, hurt, peo...</td>\n",
       "      <td>positive</td>\n",
       "      <td>NaN</td>\n",
       "      <td>Other</td>\n",
       "      <td>1</td>\n",
       "      <td>1</td>\n",
       "      <td>NaN</td>\n",
       "    </tr>\n",
       "  </tbody>\n",
       "</table>\n",
       "<p>615 rows × 7 columns</p>\n",
       "</div>"
      ],
      "text/plain": [
       "                                                  text sentiment  \\\n",
       "2    [dear, canadian, this, election, is, a, test, ...  positive   \n",
       "4    [sorry, thejagmeetsingh, i, have, voted, ndp, ...  positive   \n",
       "8    [if, canadian, voteppc, and, support, maximebe...  positive   \n",
       "9    [justin, trudeau, literally, had, rock, thrown...  positive   \n",
       "12   [throwbackthursday, to, federal, election, deb...  positive   \n",
       "..                                                 ...       ...   \n",
       "938  [this, election, is, about, canadian, freedom,...  positive   \n",
       "940  [your, progressive, conservative, government, ...  positive   \n",
       "943  [last, one, of, the, night, lookin, like, u, n...  positive   \n",
       "969  [justintrudeau, is, killing, it, i, d, hate, t...  positive   \n",
       "984  [justintrudeau, justin, rifle, dont, hurt, peo...  positive   \n",
       "\n",
       "    negative_reason         party  sentiment_num  predict  \\\n",
       "2               NaN       Liberal              1        1   \n",
       "4               NaN           PPC              1        1   \n",
       "8               NaN           PPC              1        1   \n",
       "9               NaN  Conservative              1        0   \n",
       "12              NaN  Conservative              1        1   \n",
       "..              ...           ...            ...      ...   \n",
       "938             NaN         Other              1        1   \n",
       "940             NaN  Conservative              1        1   \n",
       "943             NaN  Conservative              1        1   \n",
       "969             NaN         Other              1        1   \n",
       "984             NaN         Other              1        1   \n",
       "\n",
       "     negative_reason_encode  \n",
       "2                       NaN  \n",
       "4                       NaN  \n",
       "8                       NaN  \n",
       "9                       NaN  \n",
       "12                      NaN  \n",
       "..                      ...  \n",
       "938                     NaN  \n",
       "940                     NaN  \n",
       "943                     NaN  \n",
       "969                     NaN  \n",
       "984                     NaN  \n",
       "\n",
       "[615 rows x 7 columns]"
      ]
     },
     "execution_count": 397,
     "metadata": {},
     "output_type": "execute_result"
    }
   ],
   "source": [
    "#c) \n",
    "#(i)bag of words for positive tweets to rank the top-50 most frequent non-stop-words\n",
    "pos_tw = ce_df.loc[ce_df.sentiment_num == 1]\n",
    "pos_tw"
   ]
  },
  {
   "cell_type": "code",
   "execution_count": 421,
   "id": "675184f1",
   "metadata": {},
   "outputs": [
    {
     "data": {
      "text/plain": [
       "['the',\n",
       " 'to',\n",
       " 'election',\n",
       " 'a',\n",
       " 'and',\n",
       " 'canadian',\n",
       " 'for',\n",
       " 'is',\n",
       " 'in',\n",
       " 'i',\n",
       " 'this',\n",
       " 'of',\n",
       " 'vote',\n",
       " 'you',\n",
       " 'trudeau',\n",
       " 'it',\n",
       " 'otoole',\n",
       " 'canada',\n",
       " 'that',\n",
       " 'on',\n",
       " 'we',\n",
       " 'have',\n",
       " 'are',\n",
       " 'will',\n",
       " 'all',\n",
       " 'be',\n",
       " 'party',\n",
       " 'he',\n",
       " 's',\n",
       " 'my',\n",
       " 'with',\n",
       " 'elxn',\n",
       " 'good',\n",
       " 'win',\n",
       " 'if',\n",
       " 'so',\n",
       " 'liberal',\n",
       " 'an',\n",
       " 'your',\n",
       " 'but',\n",
       " 'get',\n",
       " 'conservative',\n",
       " 'federal',\n",
       " 'about',\n",
       " 'they',\n",
       " 'like',\n",
       " 'freedom',\n",
       " 'not',\n",
       " 'ppc',\n",
       " 'our']"
      ]
     },
     "execution_count": 421,
     "metadata": {},
     "output_type": "execute_result"
    }
   ],
   "source": [
    "from collections import Counter\n",
    "#merge all text in to one big list\n",
    "pos_list = []\n",
    "for t in pos_tw.text:\n",
    "    pos_list = pos_list + t\n",
    "counts = Counter(pos_list)\n",
    "#sort by frequency\n",
    "most_frequency = sorted(pos_list, key=lambda x: -counts[x])\n",
    "#remove duplicates\n",
    "most_frequency = list(dict.fromkeys(most_frequency))\n",
    "most_frequency[:50]"
   ]
  },
  {
   "cell_type": "code",
   "execution_count": 367,
   "id": "1e2ecf12",
   "metadata": {},
   "outputs": [
    {
     "data": {
      "text/html": [
       "<div>\n",
       "<style scoped>\n",
       "    .dataframe tbody tr th:only-of-type {\n",
       "        vertical-align: middle;\n",
       "    }\n",
       "\n",
       "    .dataframe tbody tr th {\n",
       "        vertical-align: top;\n",
       "    }\n",
       "\n",
       "    .dataframe thead th {\n",
       "        text-align: right;\n",
       "    }\n",
       "</style>\n",
       "<table border=\"1\" class=\"dataframe\">\n",
       "  <thead>\n",
       "    <tr style=\"text-align: right;\">\n",
       "      <th></th>\n",
       "      <th>text</th>\n",
       "      <th>sentiment</th>\n",
       "      <th>negative_reason</th>\n",
       "      <th>party</th>\n",
       "      <th>sentiment_num</th>\n",
       "      <th>predict</th>\n",
       "      <th>negative_reason_encode</th>\n",
       "    </tr>\n",
       "  </thead>\n",
       "  <tbody>\n",
       "    <tr>\n",
       "      <th>0</th>\n",
       "      <td>[the, canadian, election, is, a, power, grab, ...</td>\n",
       "      <td>negative</td>\n",
       "      <td>calling election early</td>\n",
       "      <td>Other</td>\n",
       "      <td>0</td>\n",
       "      <td>0</td>\n",
       "      <td>0</td>\n",
       "    </tr>\n",
       "    <tr>\n",
       "      <th>1</th>\n",
       "      <td>[i, do, hope, trudeau, loses, the, canadian, e...</td>\n",
       "      <td>negative</td>\n",
       "      <td>covid</td>\n",
       "      <td>Other</td>\n",
       "      <td>0</td>\n",
       "      <td>0</td>\n",
       "      <td>1</td>\n",
       "    </tr>\n",
       "    <tr>\n",
       "      <th>3</th>\n",
       "      <td>[canadian, friend, never, forget, that, trudea...</td>\n",
       "      <td>negative</td>\n",
       "      <td>calling election early</td>\n",
       "      <td>PPC</td>\n",
       "      <td>0</td>\n",
       "      <td>0</td>\n",
       "      <td>0</td>\n",
       "    </tr>\n",
       "    <tr>\n",
       "      <th>5</th>\n",
       "      <td>[vaccine, gun, are, key, this, election, becau...</td>\n",
       "      <td>negative</td>\n",
       "      <td>covid</td>\n",
       "      <td>Conservative</td>\n",
       "      <td>0</td>\n",
       "      <td>0</td>\n",
       "      <td>1</td>\n",
       "    </tr>\n",
       "    <tr>\n",
       "      <th>6</th>\n",
       "      <td>[im, sorry, moderator, can, respond, but, lead...</td>\n",
       "      <td>negative</td>\n",
       "      <td>others</td>\n",
       "      <td>Other</td>\n",
       "      <td>0</td>\n",
       "      <td>0</td>\n",
       "      <td>2</td>\n",
       "    </tr>\n",
       "    <tr>\n",
       "      <th>...</th>\n",
       "      <td>...</td>\n",
       "      <td>...</td>\n",
       "      <td>...</td>\n",
       "      <td>...</td>\n",
       "      <td>...</td>\n",
       "      <td>...</td>\n",
       "      <td>...</td>\n",
       "    </tr>\n",
       "    <tr>\n",
       "      <th>997</th>\n",
       "      <td>[this, is, absolutely, horrible, in, canada, t...</td>\n",
       "      <td>negative</td>\n",
       "      <td>others</td>\n",
       "      <td>Other</td>\n",
       "      <td>0</td>\n",
       "      <td>0</td>\n",
       "      <td>2</td>\n",
       "    </tr>\n",
       "    <tr>\n",
       "      <th>998</th>\n",
       "      <td>[davidakin, trudeau, imposes, gun, control, po...</td>\n",
       "      <td>negative</td>\n",
       "      <td>gun control</td>\n",
       "      <td>Conservative</td>\n",
       "      <td>0</td>\n",
       "      <td>0</td>\n",
       "      <td>5</td>\n",
       "    </tr>\n",
       "    <tr>\n",
       "      <th>999</th>\n",
       "      <td>[in, canada, our, election, is, being, stolen,...</td>\n",
       "      <td>negative</td>\n",
       "      <td>others</td>\n",
       "      <td>Other</td>\n",
       "      <td>0</td>\n",
       "      <td>0</td>\n",
       "      <td>2</td>\n",
       "    </tr>\n",
       "    <tr>\n",
       "      <th>1000</th>\n",
       "      <td>[o, toole, amends, platform, on, gun, control,...</td>\n",
       "      <td>negative</td>\n",
       "      <td>tell lies</td>\n",
       "      <td>Conservative</td>\n",
       "      <td>0</td>\n",
       "      <td>0</td>\n",
       "      <td>4</td>\n",
       "    </tr>\n",
       "    <tr>\n",
       "      <th>1001</th>\n",
       "      <td>[justintrudeau, stop, your, lie, stop, your, m...</td>\n",
       "      <td>negative</td>\n",
       "      <td>tell lies</td>\n",
       "      <td>Other</td>\n",
       "      <td>0</td>\n",
       "      <td>0</td>\n",
       "      <td>4</td>\n",
       "    </tr>\n",
       "  </tbody>\n",
       "</table>\n",
       "<p>387 rows × 7 columns</p>\n",
       "</div>"
      ],
      "text/plain": [
       "                                                   text sentiment  \\\n",
       "0     [the, canadian, election, is, a, power, grab, ...  negative   \n",
       "1     [i, do, hope, trudeau, loses, the, canadian, e...  negative   \n",
       "3     [canadian, friend, never, forget, that, trudea...  negative   \n",
       "5     [vaccine, gun, are, key, this, election, becau...  negative   \n",
       "6     [im, sorry, moderator, can, respond, but, lead...  negative   \n",
       "...                                                 ...       ...   \n",
       "997   [this, is, absolutely, horrible, in, canada, t...  negative   \n",
       "998   [davidakin, trudeau, imposes, gun, control, po...  negative   \n",
       "999   [in, canada, our, election, is, being, stolen,...  negative   \n",
       "1000  [o, toole, amends, platform, on, gun, control,...  negative   \n",
       "1001  [justintrudeau, stop, your, lie, stop, your, m...  negative   \n",
       "\n",
       "             negative_reason         party  sentiment_num  predict  \\\n",
       "0     calling election early         Other              0        0   \n",
       "1                     covid          Other              0        0   \n",
       "3     calling election early           PPC              0        0   \n",
       "5                     covid   Conservative              0        0   \n",
       "6                     others         Other              0        0   \n",
       "...                      ...           ...            ...      ...   \n",
       "997                   others         Other              0        0   \n",
       "998              gun control  Conservative              0        0   \n",
       "999                   others         Other              0        0   \n",
       "1000               tell lies  Conservative              0        0   \n",
       "1001               tell lies         Other              0        0   \n",
       "\n",
       "      negative_reason_encode  \n",
       "0                          0  \n",
       "1                          1  \n",
       "3                          0  \n",
       "5                          1  \n",
       "6                          2  \n",
       "...                      ...  \n",
       "997                        2  \n",
       "998                        5  \n",
       "999                        2  \n",
       "1000                       4  \n",
       "1001                       4  \n",
       "\n",
       "[387 rows x 7 columns]"
      ]
     },
     "execution_count": 367,
     "metadata": {},
     "output_type": "execute_result"
    }
   ],
   "source": [
    "#(ii)bag of words for negative tweets to rank the top-50 most frequent non-stop-words\n",
    "nega_tw"
   ]
  },
  {
   "cell_type": "code",
   "execution_count": 422,
   "id": "dad768ef",
   "metadata": {},
   "outputs": [
    {
     "data": {
      "text/plain": [
       "['the',\n",
       " 'a',\n",
       " 'election',\n",
       " 'to',\n",
       " 'is',\n",
       " 'canadian',\n",
       " 'and',\n",
       " 'of',\n",
       " 'in',\n",
       " 'he',\n",
       " 'trudeau',\n",
       " 'for',\n",
       " 'this',\n",
       " 'you',\n",
       " 'i',\n",
       " 'otoole',\n",
       " 'that',\n",
       " 'an',\n",
       " 'it',\n",
       " 'are',\n",
       " 'on',\n",
       " 'canada',\n",
       " 'not',\n",
       " 'have',\n",
       " 's',\n",
       " 'will',\n",
       " 'be',\n",
       " 't',\n",
       " 'with',\n",
       " 'but',\n",
       " 'his',\n",
       " 'about',\n",
       " 'we',\n",
       " 'they',\n",
       " 'pandemic',\n",
       " 'just',\n",
       " 'vote',\n",
       " 'ha',\n",
       " 'justintrudeau',\n",
       " 'elxn',\n",
       " 'like',\n",
       " 'so',\n",
       " 'all',\n",
       " 'at',\n",
       " 'if',\n",
       " 'conservative',\n",
       " 'what',\n",
       " 'no',\n",
       " 'liberal',\n",
       " 'party']"
      ]
     },
     "execution_count": 422,
     "metadata": {},
     "output_type": "execute_result"
    }
   ],
   "source": [
    "neg_list = []\n",
    "for t in nega_tw.text:\n",
    "    neg_list = neg_list + t\n",
    "counts = Counter(neg_list)\n",
    "#sort by frequency\n",
    "most_frequency = sorted(neg_list, key=lambda x: -counts[x])\n",
    "#remove duplicates\n",
    "most_frequency = list(dict.fromkeys(most_frequency))\n",
    "most_frequency[:50]"
   ]
  },
  {
   "cell_type": "markdown",
   "id": "066befcc",
   "metadata": {},
   "source": [
    "The top-50 most frequent non-stop-words are pretty much the same. Most negative tweets and positive tweets are about Liberal Party and Conservative Party as well as their leaders. Except, 'freedom' seems like a common word for positive tweets and 'pandemic' is the common word for negative tweets."
   ]
  }
 ],
 "metadata": {
  "kernelspec": {
   "display_name": "Python 3 (ipykernel)",
   "language": "python",
   "name": "python3"
  },
  "language_info": {
   "codemirror_mode": {
    "name": "ipython",
    "version": 3
   },
   "file_extension": ".py",
   "mimetype": "text/x-python",
   "name": "python",
   "nbconvert_exporter": "python",
   "pygments_lexer": "ipython3",
   "version": "3.7.11"
  }
 },
 "nbformat": 4,
 "nbformat_minor": 5
}
